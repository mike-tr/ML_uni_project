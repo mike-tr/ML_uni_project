{
 "metadata": {
  "language_info": {
   "codemirror_mode": {
    "name": "ipython",
    "version": 3
   },
   "file_extension": ".py",
   "mimetype": "text/x-python",
   "name": "python",
   "nbconvert_exporter": "python",
   "pygments_lexer": "ipython3",
   "version": "3.8.5-final"
  },
  "orig_nbformat": 2,
  "kernelspec": {
   "name": "python_defaultSpec_1598453358328",
   "display_name": "Python 3.8.5 64-bit ('myproject': conda)"
  }
 },
 "nbformat": 4,
 "nbformat_minor": 2,
 "cells": [
  {
   "cell_type": "code",
   "execution_count": 18,
   "metadata": {},
   "outputs": [],
   "source": [
    "# Python ≥3.5 is required\n",
    "import sys\n",
    "assert sys.version_info >= (3, 5)\n",
    "\n",
    "# Scikit-Learn ≥0.20 is required\n",
    "import sklearn\n",
    "assert sklearn.__version__ >= \"0.20\"\n",
    "\n",
    "# Common imports\n",
    "import numpy as np\n",
    "import os\n",
    "\n",
    "# to make this notebook's output stable across runs\n",
    "np.random.seed(42)\n",
    "\n",
    "# To plot pretty figures\n",
    "%matplotlib inline\n",
    "import matplotlib as mpl\n",
    "import matplotlib.pyplot as plt\n",
    "mpl.rc('axes', labelsize=14)\n",
    "mpl.rc('xtick', labelsize=12)\n",
    "mpl.rc('ytick', labelsize=12)\n",
    "\n",
    "# Where to save the figures\n",
    "PROJECT_ROOT_DIR = \".\"\n",
    "CHAPTER_ID = \"dim_reduction\"\n",
    "IMAGES_PATH = os.path.join(PROJECT_ROOT_DIR, \"images\", CHAPTER_ID)\n",
    "os.makedirs(IMAGES_PATH, exist_ok=True)\n",
    "\n",
    "def save_fig(fig_id, tight_layout=True, fig_extension=\"png\", resolution=300):\n",
    "    path = os.path.join(IMAGES_PATH, fig_id + \".\" + fig_extension)\n",
    "    #print(\"Saving figure\", fig_id)\n",
    "    if tight_layout:\n",
    "        plt.tight_layout()\n",
    "    plt.savefig(path, format=fig_extension, dpi=resolution)\n",
    "\n",
    "# Ignore useless warnings (see SciPy issue #5998)\n",
    "import warnings\n",
    "warnings.filterwarnings(action=\"ignore\", message=\"^internal gelsd\")\n",
    "\n",
    "from IPython.core.interactiveshell import InteractiveShell\n",
    "InteractiveShell.ast_node_interactivity = \"all\"\n",
    "\n",
    "from IPython.utils import io\n",
    "\n",
    "with io.capture_output() as captured:\n",
    "    print('no prints in here')\n",
    "\n",
    "import time\n",
    "import pandas as pd"
   ]
  },
  {
   "cell_type": "code",
   "execution_count": 40,
   "metadata": {},
   "outputs": [],
   "source": [
    "Alone = 0\n",
    "Spontan = 1\n",
    "Sync = 2"
   ]
  },
  {
   "cell_type": "code",
   "execution_count": 41,
   "metadata": {},
   "outputs": [],
   "source": [
    "import glob\n",
    "\n",
    "class LoadAllIn:\n",
    "    def __init__(self, path):\n",
    "        li = []\n",
    "        all_files = glob.glob(path + \"/*\")\n",
    "        for folder in all_files:\n",
    "            print(\"\\nloading in\" ,folder, ':')\n",
    "            files = glob.glob(folder + \"/*.csv\")\n",
    "            for filename in files:\n",
    "                df = pd.read_csv(filename, index_col=None, header=0)\n",
    "                df = df.iloc[800:]\n",
    "                type = None\n",
    "                if(\"Alone\" in filename):\n",
    "                    type = Alone\n",
    "                elif(\"Sync\" in filename):\n",
    "                    type = Sync\n",
    "                elif(\"Spontan\" in filename):\n",
    "                    type = Spontan\n",
    "                df[\"state\"] = type\n",
    "                li.append(df)\n",
    "                print('loaded ', filename, type)\n",
    "        self.dataframe = pd.concat(li, axis=0, sort=False)\n",
    "        print(self.dataframe.shape)"
   ]
  },
  {
   "cell_type": "code",
   "execution_count": 42,
   "metadata": {
    "tags": []
   },
   "outputs": [
    {
     "output_type": "stream",
     "name": "stdout",
     "text": "\nloading in Unity Data\\Training\\Evyatar Cohen :\nloaded  Unity Data\\Training\\Evyatar Cohen\\Evyatar636771052727603804Spontan.csv 1\nloaded  Unity Data\\Training\\Evyatar Cohen\\Evyatar636771053639929594Sync.csv 2\nloaded  Unity Data\\Training\\Evyatar Cohen\\Evyatar636771054555711409Alone.csv 0\n\nloading in Unity Data\\Training\\Nofar Social_Nuero :\nloaded  Unity Data\\Training\\Nofar Social_Nuero\\Nofar636759795182793299Spontan.csv 1\nloaded  Unity Data\\Training\\Nofar Social_Nuero\\Nofar636759796290435160Alone.csv 0\nloaded  Unity Data\\Training\\Nofar Social_Nuero\\Nofar636759797397919664Sync.csv 2\n\nloading in Unity Data\\Training\\Oriya Social_Nuero :\nloaded  Unity Data\\Training\\Oriya Social_Nuero\\Oriya636759804404113837Spontan.csv 1\nloaded  Unity Data\\Training\\Oriya Social_Nuero\\Oriya636759805268396661Alone.csv 0\nloaded  Unity Data\\Training\\Oriya Social_Nuero\\Oriya636759806131350399Sync.csv 2\n\nloading in Unity Data\\Training\\Orya Kalmanovitz :\nloaded  Unity Data\\Training\\Orya Kalmanovitz\\OryaB636771082736601528Alone.csv 0\nloaded  Unity Data\\Training\\Orya Kalmanovitz\\OryaB636771083605535985Spontan.csv 1\nloaded  Unity Data\\Training\\Orya Kalmanovitz\\OryaB636771084494502229Sync.csv 2\n\nloading in Unity Data\\Training\\Revital Marbel :\nloaded  Unity Data\\Training\\Revital Marbel\\Revital636770955999435879Alone.csv 0\nloaded  Unity Data\\Training\\Revital Marbel\\Revital636770957038873193Spontan.csv 1\nloaded  Unity Data\\Training\\Revital Marbel\\Revital636770957894370062Sync.csv 2\n\nloading in Unity Data\\Training\\Shahar Terner :\nloaded  Unity Data\\Training\\Shahar Terner\\Sachar636771045591258071Spontan.csv 1\nloaded  Unity Data\\Training\\Shahar Terner\\Sachar636771046527112972Sync.csv 2\nloaded  Unity Data\\Training\\Shahar Terner\\Sachar636771047408504303Alone.csv 0\n\nloading in Unity Data\\Training\\Shelly Social_Nuero :\nloaded  Unity Data\\Training\\Shelly Social_Nuero\\Shelly636759787508979097Spontan.csv 1\nloaded  Unity Data\\Training\\Shelly Social_Nuero\\Shelly636759788383205274Alone.csv 0\nloaded  Unity Data\\Training\\Shelly Social_Nuero\\Shelly636759789526313406Sync.csv 2\n\nloading in Unity Data\\Training\\Yael Hagai :\nloaded  Unity Data\\Training\\Yael Hagai\\Yael636771059544754823Spontan.csv 1\nloaded  Unity Data\\Training\\Yael Hagai\\Yael636771060699529085Sync.csv 2\nloaded  Unity Data\\Training\\Yael Hagai\\Yael636771061659067649Alone.csv 0\n\nloading in Unity Data\\Training\\Yoel Raz :\nloaded  Unity Data\\Training\\Yoel Raz\\Yoel636760921663075813Spontan.csv 1\nloaded  Unity Data\\Training\\Yoel Raz\\Yoel636760922573364655Alone.csv 0\nloaded  Unity Data\\Training\\Yoel Raz\\Yoel636760923490742912Sync.csv 2\n(169362, 23)\n"
    }
   ],
   "source": [
    "dataframe_train = LoadAllIn('Unity Data\\Training').dataframe"
   ]
  },
  {
   "cell_type": "code",
   "execution_count": 19,
   "metadata": {
    "tags": []
   },
   "outputs": [
    {
     "output_type": "stream",
     "name": "stdout",
     "text": "Unity Data\\Training\\Evyatar Cohen\nUnity Data\\Training\\Nofar Social_Nuero\nUnity Data\\Training\\Oriya Social_Nuero\nUnity Data\\Training\\Orya Kalmanovitz\nUnity Data\\Training\\Revital Marbel\nUnity Data\\Training\\Shahar Terner\nUnity Data\\Training\\Shelly Social_Nuero\nUnity Data\\Training\\Yael Hagai\nUnity Data\\Training\\Yoel Raz\n"
    }
   ],
   "source": [
    "path = 'Unity Data\\Training' # use your path\n",
    "#all_files = glob.glob(path + \"/*.csv\")\n",
    "all_files = glob.glob(path + \"/*\")\n",
    "\n",
    "li = []\n",
    "\n",
    "for filename in all_files:\n",
    "    #df = pd.read_csv(filename, index_col=None, header=0)\n",
    "    #li.append(df)\n",
    "    print(filename)\n",
    "\n",
    "#frame = pd.concat(li, axis=0, ignore_index=True)"
   ]
  }
 ]
}