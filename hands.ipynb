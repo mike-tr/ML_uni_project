{
 "metadata": {
  "language_info": {
   "codemirror_mode": {
    "name": "ipython",
    "version": 3
   },
   "file_extension": ".py",
   "mimetype": "text/x-python",
   "name": "python",
   "nbconvert_exporter": "python",
   "pygments_lexer": "ipython3",
   "version": "3.8.5-final"
  },
  "orig_nbformat": 2,
  "kernelspec": {
   "name": "python_defaultSpec_1598524190444",
   "display_name": "Python 3.8.5 64-bit ('myproject': conda)"
  }
 },
 "nbformat": 4,
 "nbformat_minor": 2,
 "cells": [
  {
   "cell_type": "code",
   "execution_count": 315,
   "metadata": {},
   "outputs": [],
   "source": [
    "# Python ≥3.5 is required\n",
    "import sys\n",
    "assert sys.version_info >= (3, 5)\n",
    "\n",
    "# Scikit-Learn ≥0.20 is required\n",
    "import sklearn\n",
    "assert sklearn.__version__ >= \"0.20\"\n",
    "\n",
    "# Common imports\n",
    "import numpy as np\n",
    "import os\n",
    "\n",
    "# to make this notebook's output stable across runs\n",
    "np.random.seed(42)\n",
    "\n",
    "# To plot pretty figures\n",
    "%matplotlib inline\n",
    "import matplotlib as mpl\n",
    "import matplotlib.pyplot as plt\n",
    "mpl.rc('axes', labelsize=14)\n",
    "mpl.rc('xtick', labelsize=12)\n",
    "mpl.rc('ytick', labelsize=12)\n",
    "\n",
    "# Where to save the figures\n",
    "PROJECT_ROOT_DIR = \".\"\n",
    "CHAPTER_ID = \"dim_reduction\"\n",
    "IMAGES_PATH = os.path.join(PROJECT_ROOT_DIR, \"images\", CHAPTER_ID)\n",
    "os.makedirs(IMAGES_PATH, exist_ok=True)\n",
    "\n",
    "def save_fig(fig_id, tight_layout=True, fig_extension=\"png\", resolution=300):\n",
    "    path = os.path.join(IMAGES_PATH, fig_id + \".\" + fig_extension)\n",
    "    #print(\"Saving figure\", fig_id)\n",
    "    if tight_layout:\n",
    "        plt.tight_layout()\n",
    "    plt.savefig(path, format=fig_extension, dpi=resolution)\n",
    "\n",
    "# Ignore useless warnings (see SciPy issue #5998)\n",
    "import warnings\n",
    "warnings.filterwarnings(action=\"ignore\", message=\"^internal gelsd\")\n",
    "\n",
    "from IPython.core.interactiveshell import InteractiveShell\n",
    "InteractiveShell.ast_node_interactivity = \"all\"\n",
    "\n",
    "from IPython.utils import io\n",
    "\n",
    "with io.capture_output() as captured:\n",
    "    print('no prints in here')\n",
    "\n",
    "import time\n",
    "import pandas as pd"
   ]
  },
  {
   "cell_type": "code",
   "execution_count": 316,
   "metadata": {},
   "outputs": [],
   "source": [
    "Alone = 0\n",
    "Spontan = 1\n",
    "Sync = 2"
   ]
  },
  {
   "cell_type": "markdown",
   "metadata": {},
   "source": [
    "First lets load the right hand solo,\n",
    "and we would actually from the get go merge it to the solo hands"
   ]
  },
  {
   "cell_type": "code",
   "execution_count": 317,
   "metadata": {},
   "outputs": [],
   "source": [
    "HandRight = pd.read_csv(\"Unity Data\\HandRight.csv\")\n",
    "#HandRight.head(10)"
   ]
  },
  {
   "cell_type": "code",
   "execution_count": 318,
   "metadata": {},
   "outputs": [],
   "source": [
    "drop_indecies = [1,2,3] # notice we are droping hands count because this is cheating!"
   ]
  },
  {
   "cell_type": "code",
   "execution_count": 319,
   "metadata": {},
   "outputs": [],
   "source": [
    "HandRight = HandRight.drop(HandRight.columns[drop_indecies], axis=1)\n",
    "HandRight = HandRight.iloc[500:4000]"
   ]
  },
  {
   "cell_type": "code",
   "execution_count": 320,
   "metadata": {
    "tags": []
   },
   "outputs": [
    {
     "output_type": "execute_result",
     "data": {
      "text/plain": "(3500, 19)"
     },
     "metadata": {},
     "execution_count": 320
    }
   ],
   "source": [
    "HandRight.shape\n",
    "\n",
    "#HandRight.info()"
   ]
  },
  {
   "cell_type": "code",
   "execution_count": 321,
   "metadata": {},
   "outputs": [],
   "source": [
    "#HandRight.iloc[1::3,:]"
   ]
  },
  {
   "cell_type": "code",
   "execution_count": 322,
   "metadata": {},
   "outputs": [],
   "source": [
    "def TransformData(df, type):\n",
    "    df = df.drop(df.columns[drop_indecies], axis=1)\n",
    "    if(type == Alone):\n",
    "        df = df.iloc[500:4000]\n",
    "        maxX = df.shape[0]\n",
    "        combine = np.hstack([HandRight[:maxX].values, df.values]).reshape(-1, df.shape[1])\n",
    "        df = pd.DataFrame(combine, columns=df.columns)\n",
    "    else:\n",
    "        df = df.iloc[1000:9000]\n",
    "        maxX = int(df.shape[0] / 2) * 2\n",
    "        df = df.iloc[:maxX]\n",
    "    df[\"state\"] = type\n",
    "    return df"
   ]
  },
  {
   "cell_type": "code",
   "execution_count": 323,
   "metadata": {},
   "outputs": [],
   "source": [
    "import glob\n",
    "\n",
    "class DataLoader:\n",
    "    def __init__(self, path):\n",
    "        li = []\n",
    "        all_files = glob.glob(path + \"/*\")\n",
    "        v = 0\n",
    "        for folder in all_files:\n",
    "            print(\"\\nloading in\" ,folder, ':')\n",
    "            files = glob.glob(folder + \"/*.csv\")\n",
    "            for filename in files:\n",
    "                df = pd.read_csv(filename, index_col=None, header=0)\n",
    "                type = None\n",
    "                if(\"Alone\" in filename):\n",
    "                    type = Alone\n",
    "                elif(\"Sync\" in filename):\n",
    "                    type = Sync\n",
    "                elif(\"Spontan\" in filename):\n",
    "                    type = Spontan\n",
    "                df = TransformData(df, type)\n",
    "                v += df.shape[0]\n",
    "                li.append(df)\n",
    "                print('loaded ', filename, type)\n",
    "        self.dataRaw = li\n",
    "        self.dataMerged = pd.concat(li, axis=0, sort=False)\n",
    "        print(self.dataMerged.shape, v)"
   ]
  },
  {
   "cell_type": "code",
   "execution_count": 324,
   "metadata": {
    "tags": []
   },
   "outputs": [
    {
     "output_type": "stream",
     "name": "stdout",
     "text": "\nloading in Unity Data\\Training\\Evyatar Cohen :\nloaded  Unity Data\\Training\\Evyatar Cohen\\Evyatar636771052727603804Spontan.csv 1\nloaded  Unity Data\\Training\\Evyatar Cohen\\Evyatar636771053639929594Sync.csv 2\nloaded  Unity Data\\Training\\Evyatar Cohen\\Evyatar636771054555711409Alone.csv 0\n\nloading in Unity Data\\Training\\Nofar Social_Nuero :\nloaded  Unity Data\\Training\\Nofar Social_Nuero\\Nofar636759795182793299Spontan.csv 1\nloaded  Unity Data\\Training\\Nofar Social_Nuero\\Nofar636759796290435160Alone.csv 0\nloaded  Unity Data\\Training\\Nofar Social_Nuero\\Nofar636759797397919664Sync.csv 2\n\nloading in Unity Data\\Training\\Oriya Social_Nuero :\nloaded  Unity Data\\Training\\Oriya Social_Nuero\\Oriya636759804404113837Spontan.csv 1\nloaded  Unity Data\\Training\\Oriya Social_Nuero\\Oriya636759805268396661Alone.csv 0\nloaded  Unity Data\\Training\\Oriya Social_Nuero\\Oriya636759806131350399Sync.csv 2\n\nloading in Unity Data\\Training\\Orya Kalmanovitz :\nloaded  Unity Data\\Training\\Orya Kalmanovitz\\OryaB636771082736601528Alone.csv 0\nloaded  Unity Data\\Training\\Orya Kalmanovitz\\OryaB636771083605535985Spontan.csv 1\nloaded  Unity Data\\Training\\Orya Kalmanovitz\\OryaB636771084494502229Sync.csv 2\n\nloading in Unity Data\\Training\\Revital Marbel :\nloaded  Unity Data\\Training\\Revital Marbel\\Revital636770955999435879Alone.csv 0\nloaded  Unity Data\\Training\\Revital Marbel\\Revital636770957038873193Spontan.csv 1\nloaded  Unity Data\\Training\\Revital Marbel\\Revital636770957894370062Sync.csv 2\n\nloading in Unity Data\\Training\\Shahar Terner :\nloaded  Unity Data\\Training\\Shahar Terner\\Sachar636771045591258071Spontan.csv 1\nloaded  Unity Data\\Training\\Shahar Terner\\Sachar636771046527112972Sync.csv 2\nloaded  Unity Data\\Training\\Shahar Terner\\Sachar636771047408504303Alone.csv 0\n\nloading in Unity Data\\Training\\Shelly Social_Nuero :\nloaded  Unity Data\\Training\\Shelly Social_Nuero\\Shelly636759787508979097Spontan.csv 1\nloaded  Unity Data\\Training\\Shelly Social_Nuero\\Shelly636759788383205274Alone.csv 0\nloaded  Unity Data\\Training\\Shelly Social_Nuero\\Shelly636759789526313406Sync.csv 2\n\nloading in Unity Data\\Training\\Yael Hagai :\nloaded  Unity Data\\Training\\Yael Hagai\\Yael636771059544754823Spontan.csv 1\nloaded  Unity Data\\Training\\Yael Hagai\\Yael636771060699529085Sync.csv 2\nloaded  Unity Data\\Training\\Yael Hagai\\Yael636771061659067649Alone.csv 0\n\nloading in Unity Data\\Training\\Yoel Raz :\nloaded  Unity Data\\Training\\Yoel Raz\\Yoel636760921663075813Spontan.csv 1\nloaded  Unity Data\\Training\\Yoel Raz\\Yoel636760922573364655Alone.csv 0\nloaded  Unity Data\\Training\\Yoel Raz\\Yoel636760923490742912Sync.csv 2\n(193128, 20) 193128\n"
    }
   ],
   "source": [
    "training = DataLoader('Unity Data\\Training')"
   ]
  },
  {
   "cell_type": "code",
   "execution_count": 325,
   "metadata": {},
   "outputs": [],
   "source": [
    "data = pd.DataFrame\n",
    "data = training.dataMerged"
   ]
  },
  {
   "cell_type": "markdown",
   "metadata": {},
   "source": [
    "dataRaw is all the daraframes that we have already setup for us, now what we need is to generate from all of this,\n",
    "\n",
    "our actuall training data"
   ]
  },
  {
   "cell_type": "code",
   "execution_count": 336,
   "metadata": {},
   "outputs": [
    {
     "output_type": "execute_result",
     "data": {
      "text/plain": "       Time   Position X   Position Y   Position Z   Velocity X   Velocity Y  \\\n0  136.6184     1.854658     163.3199     12.51509     67.33890     -6.28195   \n1  504.3504   -20.808590     226.0860     17.08860     49.71883   -341.25160   \n2  136.6354     2.990307     163.0106     14.22045     63.82683    -27.71448   \n3  504.3669   -20.061710     220.5413     17.05443     36.02574   -309.41180   \n4  136.6524     4.197042     162.9949     15.69018     69.52037     12.69234   \n\n    Velocity Z     Pitch      Roll       Yaw   Wrist Pos X   Wrist Pos Y  \\\n0   101.442200 -0.155174  0.078463 -0.764891      59.46534      173.0233   \n1   -14.951780  1.199416  0.119953  1.519325     -92.19111      218.0329   \n2    91.912690 -0.166827  0.079468 -0.760001      60.39677      173.5084   \n3     0.574942  1.089347  0.092826  1.515014     -91.69262      214.4963   \n4    67.462470 -0.172697  0.079392 -0.758363      61.55299      174.0561   \n\n    Wrist Pos Z   Elbow pos X   Elbow Pos Y   Elbow Pos Z   Grab Strenth  \\\n0      60.61472      254.6348     127.27250     240.62390            0.0   \n1      12.57041     -309.3688      85.11283     -24.33749            0.0   \n2      62.45371      257.0284     134.33960     242.42510            0.0   \n3      13.19102     -314.4200      89.30956     -17.08960            0.0   \n4      63.92721      259.6933     142.51660     243.74310            0.0   \n\n    Grab Angle   Pinch Strength  state  \n0     0.401652              0.0      0  \n1     0.603028              0.0      0  \n2     0.405177              0.0      0  \n3     0.313147              0.0      0  \n4     0.378955              0.0      0  ",
      "text/html": "<div>\n<style scoped>\n    .dataframe tbody tr th:only-of-type {\n        vertical-align: middle;\n    }\n\n    .dataframe tbody tr th {\n        vertical-align: top;\n    }\n\n    .dataframe thead th {\n        text-align: right;\n    }\n</style>\n<table border=\"1\" class=\"dataframe\">\n  <thead>\n    <tr style=\"text-align: right;\">\n      <th></th>\n      <th>Time</th>\n      <th>Position X</th>\n      <th>Position Y</th>\n      <th>Position Z</th>\n      <th>Velocity X</th>\n      <th>Velocity Y</th>\n      <th>Velocity Z</th>\n      <th>Pitch</th>\n      <th>Roll</th>\n      <th>Yaw</th>\n      <th>Wrist Pos X</th>\n      <th>Wrist Pos Y</th>\n      <th>Wrist Pos Z</th>\n      <th>Elbow pos X</th>\n      <th>Elbow Pos Y</th>\n      <th>Elbow Pos Z</th>\n      <th>Grab Strenth</th>\n      <th>Grab Angle</th>\n      <th>Pinch Strength</th>\n      <th>state</th>\n    </tr>\n  </thead>\n  <tbody>\n    <tr>\n      <th>0</th>\n      <td>136.6184</td>\n      <td>1.854658</td>\n      <td>163.3199</td>\n      <td>12.51509</td>\n      <td>67.33890</td>\n      <td>-6.28195</td>\n      <td>101.442200</td>\n      <td>-0.155174</td>\n      <td>0.078463</td>\n      <td>-0.764891</td>\n      <td>59.46534</td>\n      <td>173.0233</td>\n      <td>60.61472</td>\n      <td>254.6348</td>\n      <td>127.27250</td>\n      <td>240.62390</td>\n      <td>0.0</td>\n      <td>0.401652</td>\n      <td>0.0</td>\n      <td>0</td>\n    </tr>\n    <tr>\n      <th>1</th>\n      <td>504.3504</td>\n      <td>-20.808590</td>\n      <td>226.0860</td>\n      <td>17.08860</td>\n      <td>49.71883</td>\n      <td>-341.25160</td>\n      <td>-14.951780</td>\n      <td>1.199416</td>\n      <td>0.119953</td>\n      <td>1.519325</td>\n      <td>-92.19111</td>\n      <td>218.0329</td>\n      <td>12.57041</td>\n      <td>-309.3688</td>\n      <td>85.11283</td>\n      <td>-24.33749</td>\n      <td>0.0</td>\n      <td>0.603028</td>\n      <td>0.0</td>\n      <td>0</td>\n    </tr>\n    <tr>\n      <th>2</th>\n      <td>136.6354</td>\n      <td>2.990307</td>\n      <td>163.0106</td>\n      <td>14.22045</td>\n      <td>63.82683</td>\n      <td>-27.71448</td>\n      <td>91.912690</td>\n      <td>-0.166827</td>\n      <td>0.079468</td>\n      <td>-0.760001</td>\n      <td>60.39677</td>\n      <td>173.5084</td>\n      <td>62.45371</td>\n      <td>257.0284</td>\n      <td>134.33960</td>\n      <td>242.42510</td>\n      <td>0.0</td>\n      <td>0.405177</td>\n      <td>0.0</td>\n      <td>0</td>\n    </tr>\n    <tr>\n      <th>3</th>\n      <td>504.3669</td>\n      <td>-20.061710</td>\n      <td>220.5413</td>\n      <td>17.05443</td>\n      <td>36.02574</td>\n      <td>-309.41180</td>\n      <td>0.574942</td>\n      <td>1.089347</td>\n      <td>0.092826</td>\n      <td>1.515014</td>\n      <td>-91.69262</td>\n      <td>214.4963</td>\n      <td>13.19102</td>\n      <td>-314.4200</td>\n      <td>89.30956</td>\n      <td>-17.08960</td>\n      <td>0.0</td>\n      <td>0.313147</td>\n      <td>0.0</td>\n      <td>0</td>\n    </tr>\n    <tr>\n      <th>4</th>\n      <td>136.6524</td>\n      <td>4.197042</td>\n      <td>162.9949</td>\n      <td>15.69018</td>\n      <td>69.52037</td>\n      <td>12.69234</td>\n      <td>67.462470</td>\n      <td>-0.172697</td>\n      <td>0.079392</td>\n      <td>-0.758363</td>\n      <td>61.55299</td>\n      <td>174.0561</td>\n      <td>63.92721</td>\n      <td>259.6933</td>\n      <td>142.51660</td>\n      <td>243.74310</td>\n      <td>0.0</td>\n      <td>0.378955</td>\n      <td>0.0</td>\n      <td>0</td>\n    </tr>\n  </tbody>\n</table>\n</div>"
     },
     "metadata": {},
     "execution_count": 336
    }
   ],
   "source": [
    "training.dataRaw[4].head(5)"
   ]
  },
  {
   "cell_type": "markdown",
   "metadata": {},
   "source": [
    "Lets generate our np_array so first of all lets create a new class,\n",
    "\n",
    "class would do the following it would get a settings : colloums it should drop, \n",
    "\n",
    "(jumps in time, and number of frames per row, andoverall jumps on the dataset),"
   ]
  },
  {
   "cell_type": "code",
   "execution_count": 327,
   "metadata": {},
   "outputs": [
    {
     "output_type": "error",
     "ename": "SyntaxError",
     "evalue": "unexpected EOF while parsing (<ipython-input-327-34eacd1e77b6>, line 2)",
     "traceback": [
      "\u001b[1;36m  File \u001b[1;32m\"<ipython-input-327-34eacd1e77b6>\"\u001b[1;36m, line \u001b[1;32m2\u001b[0m\n\u001b[1;33m    def __init__(self, drop_indecies, ):\u001b[0m\n\u001b[1;37m                                        ^\u001b[0m\n\u001b[1;31mSyntaxError\u001b[0m\u001b[1;31m:\u001b[0m unexpected EOF while parsing\n"
     ]
    }
   ],
   "source": [
    "class DataToNP:\n",
    "    def __init__(self, drop_indecies, label_index, jumps):\n",
    "        self.drop = drop_indecies\n",
    "        self.label_index = label_index\n",
    "        self.jumps = jumps\n",
    "    def transform(self, df):\n",
    "        "
   ]
  },
  {
   "cell_type": "code",
   "execution_count": 328,
   "metadata": {
    "tags": []
   },
   "outputs": [
    {
     "output_type": "execute_result",
     "data": {
      "text/plain": "(193128, 20)"
     },
     "metadata": {},
     "execution_count": 328
    },
    {
     "output_type": "stream",
     "name": "stdout",
     "text": "<class 'pandas.core.frame.DataFrame'>\nInt64Index: 193128 entries, 1000 to 4499\nData columns (total 20 columns):\n #   Column           Non-Null Count   Dtype  \n---  ------           --------------   -----  \n 0   Time             193128 non-null  float64\n 1    Position X      193128 non-null  float64\n 2    Position Y      193128 non-null  float64\n 3    Position Z      193128 non-null  float64\n 4    Velocity X      193128 non-null  float64\n 5    Velocity Y      193128 non-null  float64\n 6    Velocity Z      193128 non-null  float64\n 7    Pitch           193128 non-null  float64\n 8    Roll            193128 non-null  float64\n 9    Yaw             193128 non-null  float64\n 10   Wrist Pos X     193128 non-null  float64\n 11   Wrist Pos Y     193128 non-null  float64\n 12   Wrist Pos Z     193128 non-null  float64\n 13   Elbow pos X     193128 non-null  float64\n 14   Elbow Pos Y     193128 non-null  float64\n 15   Elbow Pos Z     193128 non-null  float64\n 16   Grab Strenth    193128 non-null  float64\n 17   Grab Angle      193128 non-null  float64\n 18   Pinch Strength  193128 non-null  float64\n 19  state            193128 non-null  int64  \ndtypes: float64(19), int64(1)\nmemory usage: 30.9 MB\n"
    }
   ],
   "source": [
    "data.shape\n",
    "data.info()"
   ]
  },
  {
   "cell_type": "markdown",
   "metadata": {},
   "source": [
    "nice all the data, is complete with no nulls!\n",
    "\n",
    "next step i wanna insert between"
   ]
  },
  {
   "cell_type": "code",
   "execution_count": 329,
   "metadata": {},
   "outputs": [
    {
     "output_type": "execute_result",
     "data": {
      "text/plain": "array([[ 4.355143e+02, -3.878169e+01,  2.384981e+02, ...,  4.714104e-01,\n         0.000000e+00,  2.000000e+00],\n       [ 4.355143e+02, -1.471593e+02,  2.712473e+02, ...,  3.219693e-02,\n         0.000000e+00,  2.000000e+00],\n       [ 4.355313e+02, -3.310929e+01,  2.353336e+02, ...,  5.058866e-01,\n         0.000000e+00,  2.000000e+00],\n       ...,\n       [ 8.562958e+02,  1.038475e+02,  2.147484e+02, ...,  0.000000e+00,\n         0.000000e+00,  2.000000e+00],\n       [ 8.563295e+02, -8.405124e+01,  1.878450e+02, ...,  0.000000e+00,\n         0.000000e+00,  2.000000e+00],\n       [ 8.563295e+02,  1.061188e+02,  2.180190e+02, ...,  0.000000e+00,\n         0.000000e+00,  2.000000e+00]])"
     },
     "metadata": {},
     "execution_count": 329
    }
   ],
   "source": [
    "data.loc[data.state == Sync].values"
   ]
  },
  {
   "cell_type": "code",
   "execution_count": 330,
   "metadata": {},
   "outputs": [
    {
     "output_type": "execute_result",
     "data": {
      "text/plain": "          Time   Position X   Position Y   Position Z   Velocity X  \\\n1000  344.2817    146.37590     177.4566   -34.298390    161.27960   \n1001  344.2817    -91.63244     137.1377    -1.555785    125.18220   \n1002  344.2983    147.60640     175.5879   -33.666630     48.28885   \n1003  344.2983    -90.20468     135.4151    -1.015964     75.52746   \n1004  344.3148    147.13200     172.9235   -33.415880    -50.32516   \n...        ...          ...          ...          ...          ...   \n4495  856.2631    101.91230     212.0264    42.535680     79.95810   \n4496  856.2958    -81.57359     183.5054    -7.185198    -63.24731   \n4497  856.2958    103.84750     214.7484    47.070820     61.11773   \n4498  856.3295    -84.05124     187.8450    -5.172269    -57.17249   \n4499  856.3295    106.11880     218.0190    53.588680     25.46704   \n\n       Velocity Y   Velocity Z     Pitch      Roll       Yaw   Wrist Pos X  \\\n1000    -46.72000    28.471250 -0.907758  0.423413 -1.099889      202.0399   \n1001   -147.96460    28.538970  0.609818  0.224510  1.254671     -159.3512   \n1002   -111.12560    31.651890 -0.952355  0.478593 -1.083873      201.0957   \n1003    -79.42178    32.457540  0.609856  0.212648  1.267614     -158.3547   \n1004   -153.80190    -7.015425 -0.987267  0.525830 -1.069649      198.5992   \n...           ...          ...       ...       ...       ...           ...   \n4495    113.41030   190.771400  1.065334 -1.225539 -0.574317      131.8590   \n4496    121.75270    62.959700  0.762549  1.824587  0.459446     -109.7250   \n4497     95.13531   155.745300  1.110287 -1.214715 -0.612753      134.0416   \n4498    109.20360    58.481460  0.824793  1.787295  0.434273     -109.5167   \n4499     72.26683   190.163600  1.167179 -1.191359 -0.690703      137.0708   \n\n       Wrist Pos Y   Wrist Pos Z   Elbow pos X   Elbow Pos Y   Elbow Pos Z  \\\n1000      210.9716     -9.521991      359.1807    215.899800     187.13020   \n1001      121.8911     11.383210     -364.5428    -20.581530      42.80880   \n1002      212.4466     -8.900825      355.0660    228.117800     189.68710   \n1003      121.4457     11.583490     -371.8665     -5.555285      52.48656   \n1004      212.6112     -8.750634      348.8271    239.096300     191.54840   \n...            ...           ...           ...           ...           ...   \n4495      149.6264     66.098530      283.6185    -58.034910      95.29868   \n4496      130.7078     34.033600     -295.5957    -14.978170     140.02630   \n4497      151.5924     68.176930      288.9688    -54.138200      94.23959   \n4498      131.6489     33.329450     -282.9649    -31.354620     135.07610   \n4499      154.2158     71.469250      289.6567    -53.671850      93.98731   \n\n       Grab Strenth   Grab Angle   Pinch Strength  state  \n1000       0.189790     1.473098              0.0      1  \n1001       0.000000     1.314333              0.0      1  \n1002       0.250022     1.504737              0.0      1  \n1003       0.107532     1.470760              0.0      1  \n1004       0.291985     1.536698              0.0      1  \n...             ...          ...              ...    ...  \n4495       0.000000     0.000000              0.0      2  \n4496       0.000000     0.000000              0.0      2  \n4497       0.000000     0.000000              0.0      2  \n4498       0.000000     0.000000              0.0      2  \n4499       0.000000     0.000000              0.0      2  \n\n[193128 rows x 20 columns]",
      "text/html": "<div>\n<style scoped>\n    .dataframe tbody tr th:only-of-type {\n        vertical-align: middle;\n    }\n\n    .dataframe tbody tr th {\n        vertical-align: top;\n    }\n\n    .dataframe thead th {\n        text-align: right;\n    }\n</style>\n<table border=\"1\" class=\"dataframe\">\n  <thead>\n    <tr style=\"text-align: right;\">\n      <th></th>\n      <th>Time</th>\n      <th>Position X</th>\n      <th>Position Y</th>\n      <th>Position Z</th>\n      <th>Velocity X</th>\n      <th>Velocity Y</th>\n      <th>Velocity Z</th>\n      <th>Pitch</th>\n      <th>Roll</th>\n      <th>Yaw</th>\n      <th>Wrist Pos X</th>\n      <th>Wrist Pos Y</th>\n      <th>Wrist Pos Z</th>\n      <th>Elbow pos X</th>\n      <th>Elbow Pos Y</th>\n      <th>Elbow Pos Z</th>\n      <th>Grab Strenth</th>\n      <th>Grab Angle</th>\n      <th>Pinch Strength</th>\n      <th>state</th>\n    </tr>\n  </thead>\n  <tbody>\n    <tr>\n      <th>1000</th>\n      <td>344.2817</td>\n      <td>146.37590</td>\n      <td>177.4566</td>\n      <td>-34.298390</td>\n      <td>161.27960</td>\n      <td>-46.72000</td>\n      <td>28.471250</td>\n      <td>-0.907758</td>\n      <td>0.423413</td>\n      <td>-1.099889</td>\n      <td>202.0399</td>\n      <td>210.9716</td>\n      <td>-9.521991</td>\n      <td>359.1807</td>\n      <td>215.899800</td>\n      <td>187.13020</td>\n      <td>0.189790</td>\n      <td>1.473098</td>\n      <td>0.0</td>\n      <td>1</td>\n    </tr>\n    <tr>\n      <th>1001</th>\n      <td>344.2817</td>\n      <td>-91.63244</td>\n      <td>137.1377</td>\n      <td>-1.555785</td>\n      <td>125.18220</td>\n      <td>-147.96460</td>\n      <td>28.538970</td>\n      <td>0.609818</td>\n      <td>0.224510</td>\n      <td>1.254671</td>\n      <td>-159.3512</td>\n      <td>121.8911</td>\n      <td>11.383210</td>\n      <td>-364.5428</td>\n      <td>-20.581530</td>\n      <td>42.80880</td>\n      <td>0.000000</td>\n      <td>1.314333</td>\n      <td>0.0</td>\n      <td>1</td>\n    </tr>\n    <tr>\n      <th>1002</th>\n      <td>344.2983</td>\n      <td>147.60640</td>\n      <td>175.5879</td>\n      <td>-33.666630</td>\n      <td>48.28885</td>\n      <td>-111.12560</td>\n      <td>31.651890</td>\n      <td>-0.952355</td>\n      <td>0.478593</td>\n      <td>-1.083873</td>\n      <td>201.0957</td>\n      <td>212.4466</td>\n      <td>-8.900825</td>\n      <td>355.0660</td>\n      <td>228.117800</td>\n      <td>189.68710</td>\n      <td>0.250022</td>\n      <td>1.504737</td>\n      <td>0.0</td>\n      <td>1</td>\n    </tr>\n    <tr>\n      <th>1003</th>\n      <td>344.2983</td>\n      <td>-90.20468</td>\n      <td>135.4151</td>\n      <td>-1.015964</td>\n      <td>75.52746</td>\n      <td>-79.42178</td>\n      <td>32.457540</td>\n      <td>0.609856</td>\n      <td>0.212648</td>\n      <td>1.267614</td>\n      <td>-158.3547</td>\n      <td>121.4457</td>\n      <td>11.583490</td>\n      <td>-371.8665</td>\n      <td>-5.555285</td>\n      <td>52.48656</td>\n      <td>0.107532</td>\n      <td>1.470760</td>\n      <td>0.0</td>\n      <td>1</td>\n    </tr>\n    <tr>\n      <th>1004</th>\n      <td>344.3148</td>\n      <td>147.13200</td>\n      <td>172.9235</td>\n      <td>-33.415880</td>\n      <td>-50.32516</td>\n      <td>-153.80190</td>\n      <td>-7.015425</td>\n      <td>-0.987267</td>\n      <td>0.525830</td>\n      <td>-1.069649</td>\n      <td>198.5992</td>\n      <td>212.6112</td>\n      <td>-8.750634</td>\n      <td>348.8271</td>\n      <td>239.096300</td>\n      <td>191.54840</td>\n      <td>0.291985</td>\n      <td>1.536698</td>\n      <td>0.0</td>\n      <td>1</td>\n    </tr>\n    <tr>\n      <th>...</th>\n      <td>...</td>\n      <td>...</td>\n      <td>...</td>\n      <td>...</td>\n      <td>...</td>\n      <td>...</td>\n      <td>...</td>\n      <td>...</td>\n      <td>...</td>\n      <td>...</td>\n      <td>...</td>\n      <td>...</td>\n      <td>...</td>\n      <td>...</td>\n      <td>...</td>\n      <td>...</td>\n      <td>...</td>\n      <td>...</td>\n      <td>...</td>\n      <td>...</td>\n    </tr>\n    <tr>\n      <th>4495</th>\n      <td>856.2631</td>\n      <td>101.91230</td>\n      <td>212.0264</td>\n      <td>42.535680</td>\n      <td>79.95810</td>\n      <td>113.41030</td>\n      <td>190.771400</td>\n      <td>1.065334</td>\n      <td>-1.225539</td>\n      <td>-0.574317</td>\n      <td>131.8590</td>\n      <td>149.6264</td>\n      <td>66.098530</td>\n      <td>283.6185</td>\n      <td>-58.034910</td>\n      <td>95.29868</td>\n      <td>0.000000</td>\n      <td>0.000000</td>\n      <td>0.0</td>\n      <td>2</td>\n    </tr>\n    <tr>\n      <th>4496</th>\n      <td>856.2958</td>\n      <td>-81.57359</td>\n      <td>183.5054</td>\n      <td>-7.185198</td>\n      <td>-63.24731</td>\n      <td>121.75270</td>\n      <td>62.959700</td>\n      <td>0.762549</td>\n      <td>1.824587</td>\n      <td>0.459446</td>\n      <td>-109.7250</td>\n      <td>130.7078</td>\n      <td>34.033600</td>\n      <td>-295.5957</td>\n      <td>-14.978170</td>\n      <td>140.02630</td>\n      <td>0.000000</td>\n      <td>0.000000</td>\n      <td>0.0</td>\n      <td>2</td>\n    </tr>\n    <tr>\n      <th>4497</th>\n      <td>856.2958</td>\n      <td>103.84750</td>\n      <td>214.7484</td>\n      <td>47.070820</td>\n      <td>61.11773</td>\n      <td>95.13531</td>\n      <td>155.745300</td>\n      <td>1.110287</td>\n      <td>-1.214715</td>\n      <td>-0.612753</td>\n      <td>134.0416</td>\n      <td>151.5924</td>\n      <td>68.176930</td>\n      <td>288.9688</td>\n      <td>-54.138200</td>\n      <td>94.23959</td>\n      <td>0.000000</td>\n      <td>0.000000</td>\n      <td>0.0</td>\n      <td>2</td>\n    </tr>\n    <tr>\n      <th>4498</th>\n      <td>856.3295</td>\n      <td>-84.05124</td>\n      <td>187.8450</td>\n      <td>-5.172269</td>\n      <td>-57.17249</td>\n      <td>109.20360</td>\n      <td>58.481460</td>\n      <td>0.824793</td>\n      <td>1.787295</td>\n      <td>0.434273</td>\n      <td>-109.5167</td>\n      <td>131.6489</td>\n      <td>33.329450</td>\n      <td>-282.9649</td>\n      <td>-31.354620</td>\n      <td>135.07610</td>\n      <td>0.000000</td>\n      <td>0.000000</td>\n      <td>0.0</td>\n      <td>2</td>\n    </tr>\n    <tr>\n      <th>4499</th>\n      <td>856.3295</td>\n      <td>106.11880</td>\n      <td>218.0190</td>\n      <td>53.588680</td>\n      <td>25.46704</td>\n      <td>72.26683</td>\n      <td>190.163600</td>\n      <td>1.167179</td>\n      <td>-1.191359</td>\n      <td>-0.690703</td>\n      <td>137.0708</td>\n      <td>154.2158</td>\n      <td>71.469250</td>\n      <td>289.6567</td>\n      <td>-53.671850</td>\n      <td>93.98731</td>\n      <td>0.000000</td>\n      <td>0.000000</td>\n      <td>0.0</td>\n      <td>2</td>\n    </tr>\n  </tbody>\n</table>\n<p>193128 rows × 20 columns</p>\n</div>"
     },
     "metadata": {},
     "execution_count": 330
    }
   ],
   "source": [
    "data"
   ]
  }
 ]
}