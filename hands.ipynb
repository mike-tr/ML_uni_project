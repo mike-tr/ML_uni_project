{
 "metadata": {
  "language_info": {
   "codemirror_mode": {
    "name": "ipython",
    "version": 3
   },
   "file_extension": ".py",
   "mimetype": "text/x-python",
   "name": "python",
   "nbconvert_exporter": "python",
   "pygments_lexer": "ipython3",
   "version": "3.8.5-final"
  },
  "orig_nbformat": 2,
  "kernelspec": {
   "name": "python_defaultSpec_1598610941640",
   "display_name": "Python 3.8.5 64-bit ('myproject': conda)"
  }
 },
 "nbformat": 4,
 "nbformat_minor": 2,
 "cells": [
  {
   "cell_type": "code",
   "execution_count": 62,
   "metadata": {},
   "outputs": [],
   "source": [
    "# Python ≥3.5 is required\n",
    "import sys\n",
    "assert sys.version_info >= (3, 5)\n",
    "\n",
    "# Scikit-Learn ≥0.20 is required\n",
    "import sklearn\n",
    "assert sklearn.__version__ >= \"0.20\"\n",
    "\n",
    "# Common imports\n",
    "import numpy as np\n",
    "import os\n",
    "\n",
    "# to make this notebook's output stable across runs\n",
    "np.random.seed(42)\n",
    "\n",
    "# To plot pretty figures\n",
    "%matplotlib inline\n",
    "import matplotlib as mpl\n",
    "import matplotlib.pyplot as plt\n",
    "mpl.rc('axes', labelsize=14)\n",
    "mpl.rc('xtick', labelsize=12)\n",
    "mpl.rc('ytick', labelsize=12)\n",
    "\n",
    "# Where to save the figures\n",
    "PROJECT_ROOT_DIR = \".\"\n",
    "CHAPTER_ID = \"dim_reduction\"\n",
    "IMAGES_PATH = os.path.join(PROJECT_ROOT_DIR, \"images\", CHAPTER_ID)\n",
    "os.makedirs(IMAGES_PATH, exist_ok=True)\n",
    "\n",
    "def save_fig(fig_id, tight_layout=True, fig_extension=\"png\", resolution=300):\n",
    "    path = os.path.join(IMAGES_PATH, fig_id + \".\" + fig_extension)\n",
    "    #print(\"Saving figure\", fig_id)\n",
    "    if tight_layout:\n",
    "        plt.tight_layout()\n",
    "    plt.savefig(path, format=fig_extension, dpi=resolution)\n",
    "\n",
    "# Ignore useless warnings (see SciPy issue #5998)\n",
    "import warnings\n",
    "warnings.filterwarnings(action=\"ignore\", message=\"^internal gelsd\")\n",
    "\n",
    "from IPython.core.interactiveshell import InteractiveShell\n",
    "InteractiveShell.ast_node_interactivity = \"all\"\n",
    "\n",
    "from IPython.utils import io\n",
    "\n",
    "with io.capture_output() as captured:\n",
    "    print('no prints in here')\n",
    "\n",
    "import time\n",
    "import pandas as pd"
   ]
  },
  {
   "cell_type": "code",
   "execution_count": 63,
   "metadata": {},
   "outputs": [],
   "source": [
    "Alone = 0\n",
    "Spontan = 1\n",
    "Sync = 2"
   ]
  },
  {
   "cell_type": "markdown",
   "metadata": {},
   "source": [
    "First lets load the right hand solo,\n",
    "and we would actually from the get go merge it to the solo hands"
   ]
  },
  {
   "cell_type": "code",
   "execution_count": 64,
   "metadata": {},
   "outputs": [],
   "source": [
    "HandRight = pd.read_csv(\"Unity Data\\HandRight.csv\")\n",
    "#HandRight.head(10)"
   ]
  },
  {
   "cell_type": "code",
   "execution_count": 65,
   "metadata": {},
   "outputs": [],
   "source": [
    "drop_indecies = [0,1,2] # notice we are droping hands count because this is cheating!"
   ]
  },
  {
   "cell_type": "code",
   "execution_count": 66,
   "metadata": {},
   "outputs": [],
   "source": [
    "HandRight = HandRight.drop(HandRight.columns[drop_indecies], axis=1)\n",
    "HandRight = HandRight.iloc[500:4000]"
   ]
  },
  {
   "cell_type": "code",
   "execution_count": 67,
   "metadata": {
    "tags": []
   },
   "outputs": [
    {
     "output_type": "execute_result",
     "data": {
      "text/plain": "      # hands   Position X   Position Y   Position Z   Velocity X  \\\n500         1     1.854658     163.3199     12.51509     67.33890   \n501         1     2.990307     163.0106     14.22045     63.82683   \n502         1     4.197042     162.9949     15.69018     69.52037   \n503         1     5.585192     163.3270     17.14896     81.45722   \n504         1     6.809369     163.0750     18.31746     64.54992   \n\n      Velocity Y   Velocity Z     Pitch      Roll       Yaw   Wrist Pos X  \\\n500     -6.28195    101.44220 -0.155174  0.078463 -0.764891      59.46534   \n501    -27.71448     91.91269 -0.166827  0.079468 -0.760001      60.39677   \n502     12.69234     67.46247 -0.172697  0.079392 -0.758363      61.55299   \n503     20.71213     85.95974 -0.162573  0.073489 -0.754197      62.87757   \n504    -20.25474     60.26554 -0.162684  0.071400 -0.747182      63.80330   \n\n      Wrist Pos Y   Wrist Pos Z   Elbow pos X   Elbow Pos Y   Elbow Pos Z  \\\n500      173.0233      60.61472      254.6348      127.2725      240.6239   \n501      173.5084      62.45371      257.0284      134.3396      242.4251   \n502      174.0561      63.92721      259.6933      142.5166      243.7431   \n503      173.9819      65.59348      262.3326      143.5807      244.1491   \n504      173.8077      67.11089      263.0048      144.4967      246.1332   \n\n      Grab Strenth   Grab Angle   Pinch Strength  \n500            0.0     0.401652              0.0  \n501            0.0     0.405177              0.0  \n502            0.0     0.378955              0.0  \n503            0.0     0.341598              0.0  \n504            0.0     0.299372              0.0  ",
      "text/html": "<div>\n<style scoped>\n    .dataframe tbody tr th:only-of-type {\n        vertical-align: middle;\n    }\n\n    .dataframe tbody tr th {\n        vertical-align: top;\n    }\n\n    .dataframe thead th {\n        text-align: right;\n    }\n</style>\n<table border=\"1\" class=\"dataframe\">\n  <thead>\n    <tr style=\"text-align: right;\">\n      <th></th>\n      <th># hands</th>\n      <th>Position X</th>\n      <th>Position Y</th>\n      <th>Position Z</th>\n      <th>Velocity X</th>\n      <th>Velocity Y</th>\n      <th>Velocity Z</th>\n      <th>Pitch</th>\n      <th>Roll</th>\n      <th>Yaw</th>\n      <th>Wrist Pos X</th>\n      <th>Wrist Pos Y</th>\n      <th>Wrist Pos Z</th>\n      <th>Elbow pos X</th>\n      <th>Elbow Pos Y</th>\n      <th>Elbow Pos Z</th>\n      <th>Grab Strenth</th>\n      <th>Grab Angle</th>\n      <th>Pinch Strength</th>\n    </tr>\n  </thead>\n  <tbody>\n    <tr>\n      <th>500</th>\n      <td>1</td>\n      <td>1.854658</td>\n      <td>163.3199</td>\n      <td>12.51509</td>\n      <td>67.33890</td>\n      <td>-6.28195</td>\n      <td>101.44220</td>\n      <td>-0.155174</td>\n      <td>0.078463</td>\n      <td>-0.764891</td>\n      <td>59.46534</td>\n      <td>173.0233</td>\n      <td>60.61472</td>\n      <td>254.6348</td>\n      <td>127.2725</td>\n      <td>240.6239</td>\n      <td>0.0</td>\n      <td>0.401652</td>\n      <td>0.0</td>\n    </tr>\n    <tr>\n      <th>501</th>\n      <td>1</td>\n      <td>2.990307</td>\n      <td>163.0106</td>\n      <td>14.22045</td>\n      <td>63.82683</td>\n      <td>-27.71448</td>\n      <td>91.91269</td>\n      <td>-0.166827</td>\n      <td>0.079468</td>\n      <td>-0.760001</td>\n      <td>60.39677</td>\n      <td>173.5084</td>\n      <td>62.45371</td>\n      <td>257.0284</td>\n      <td>134.3396</td>\n      <td>242.4251</td>\n      <td>0.0</td>\n      <td>0.405177</td>\n      <td>0.0</td>\n    </tr>\n    <tr>\n      <th>502</th>\n      <td>1</td>\n      <td>4.197042</td>\n      <td>162.9949</td>\n      <td>15.69018</td>\n      <td>69.52037</td>\n      <td>12.69234</td>\n      <td>67.46247</td>\n      <td>-0.172697</td>\n      <td>0.079392</td>\n      <td>-0.758363</td>\n      <td>61.55299</td>\n      <td>174.0561</td>\n      <td>63.92721</td>\n      <td>259.6933</td>\n      <td>142.5166</td>\n      <td>243.7431</td>\n      <td>0.0</td>\n      <td>0.378955</td>\n      <td>0.0</td>\n    </tr>\n    <tr>\n      <th>503</th>\n      <td>1</td>\n      <td>5.585192</td>\n      <td>163.3270</td>\n      <td>17.14896</td>\n      <td>81.45722</td>\n      <td>20.71213</td>\n      <td>85.95974</td>\n      <td>-0.162573</td>\n      <td>0.073489</td>\n      <td>-0.754197</td>\n      <td>62.87757</td>\n      <td>173.9819</td>\n      <td>65.59348</td>\n      <td>262.3326</td>\n      <td>143.5807</td>\n      <td>244.1491</td>\n      <td>0.0</td>\n      <td>0.341598</td>\n      <td>0.0</td>\n    </tr>\n    <tr>\n      <th>504</th>\n      <td>1</td>\n      <td>6.809369</td>\n      <td>163.0750</td>\n      <td>18.31746</td>\n      <td>64.54992</td>\n      <td>-20.25474</td>\n      <td>60.26554</td>\n      <td>-0.162684</td>\n      <td>0.071400</td>\n      <td>-0.747182</td>\n      <td>63.80330</td>\n      <td>173.8077</td>\n      <td>67.11089</td>\n      <td>263.0048</td>\n      <td>144.4967</td>\n      <td>246.1332</td>\n      <td>0.0</td>\n      <td>0.299372</td>\n      <td>0.0</td>\n    </tr>\n  </tbody>\n</table>\n</div>"
     },
     "metadata": {},
     "execution_count": 67
    }
   ],
   "source": [
    "HandRight.head()\n",
    "#HandRight.info()"
   ]
  },
  {
   "cell_type": "code",
   "execution_count": 68,
   "metadata": {},
   "outputs": [
    {
     "output_type": "execute_result",
     "data": {
      "text/plain": "(875, 38)"
     },
     "metadata": {},
     "execution_count": 68
    }
   ],
   "source": [
    "k = pd.concat([HandRight.iloc[::4,:].reset_index(drop=True), HandRight.iloc[1::4,:].reset_index(drop=True)], axis=1)\n",
    "k.shape\n"
   ]
  },
  {
   "cell_type": "code",
   "execution_count": 69,
   "metadata": {},
   "outputs": [],
   "source": [
    "#HandRight.iloc[1:5*3+1:3,:]"
   ]
  },
  {
   "cell_type": "code",
   "execution_count": 70,
   "metadata": {},
   "outputs": [],
   "source": [
    "def TransformData(df, type):\n",
    "    df = df.drop(df.columns[drop_indecies], axis=1)\n",
    "    if(type == Alone):\n",
    "        df = df.iloc[500:4000]\n",
    "        maxX = df.shape[0]\n",
    "        combine = np.hstack([HandRight[:maxX].values, df.values]).reshape(-1, df.shape[1])\n",
    "        df = pd.DataFrame(combine, columns=df.columns)\n",
    "    else:\n",
    "        df = df.iloc[1000:9000]\n",
    "        maxX = int(df.shape[0] / 2) * 2\n",
    "        df = df.iloc[:maxX]\n",
    "    df[df.columns[0]] -= 1\n",
    "    df[\"state\"] = type\n",
    "    return df"
   ]
  },
  {
   "cell_type": "code",
   "execution_count": 71,
   "metadata": {},
   "outputs": [],
   "source": [
    "import glob\n",
    "\n",
    "class DataLoader:\n",
    "    def __init__(self, path):\n",
    "        li = []\n",
    "        all_files = glob.glob(path + \"/*\")\n",
    "        v = 0\n",
    "        for folder in all_files:\n",
    "            print(\"\\nloading in\" ,folder, ':')\n",
    "            files = glob.glob(folder + \"/*.csv\")\n",
    "            for filename in files:\n",
    "                df = pd.read_csv(filename, index_col=None, header=0)\n",
    "                type = None\n",
    "                if(\"Alone\" in filename):\n",
    "                    type = Alone\n",
    "                elif(\"Sync\" in filename):\n",
    "                    type = Sync\n",
    "                elif(\"Spontan\" in filename):\n",
    "                    type = Spontan\n",
    "                df = TransformData(df, type)\n",
    "                v += df.shape[0]\n",
    "                li.append(df)\n",
    "                print('loaded ', filename, type)\n",
    "        self.dataRaw = li\n",
    "        self.dataMerged = pd.concat(li, axis=0, sort=False)\n",
    "        print(self.dataMerged.shape, v)"
   ]
  },
  {
   "cell_type": "code",
   "execution_count": 72,
   "metadata": {
    "tags": []
   },
   "outputs": [
    {
     "output_type": "stream",
     "name": "stdout",
     "text": "\nloading in Unity Data\\Training\\Evyatar Cohen :\nloaded  Unity Data\\Training\\Evyatar Cohen\\Evyatar636771052727603804Spontan.csv 1\nloaded  Unity Data\\Training\\Evyatar Cohen\\Evyatar636771053639929594Sync.csv 2\nloaded  Unity Data\\Training\\Evyatar Cohen\\Evyatar636771054555711409Alone.csv 0\n\nloading in Unity Data\\Training\\Nofar Social_Nuero :\nloaded  Unity Data\\Training\\Nofar Social_Nuero\\Nofar636759795182793299Spontan.csv 1\nloaded  Unity Data\\Training\\Nofar Social_Nuero\\Nofar636759796290435160Alone.csv 0\nloaded  Unity Data\\Training\\Nofar Social_Nuero\\Nofar636759797397919664Sync.csv 2\n\nloading in Unity Data\\Training\\Oriya Social_Nuero :\nloaded  Unity Data\\Training\\Oriya Social_Nuero\\Oriya636759804404113837Spontan.csv 1\nloaded  Unity Data\\Training\\Oriya Social_Nuero\\Oriya636759805268396661Alone.csv 0\nloaded  Unity Data\\Training\\Oriya Social_Nuero\\Oriya636759806131350399Sync.csv 2\n\nloading in Unity Data\\Training\\Orya Kalmanovitz :\nloaded  Unity Data\\Training\\Orya Kalmanovitz\\OryaB636771082736601528Alone.csv 0\nloaded Unity Data\\Training\\Orya Kalmanovitz\\OryaB636771083605535985Spontan.csv 1\nloaded  Unity Data\\Training\\Orya Kalmanovitz\\OryaB636771084494502229Sync.csv 2\n\nloading in Unity Data\\Training\\Revital Marbel :\nloaded  Unity Data\\Training\\Revital Marbel\\Revital636770955999435879Alone.csv 0\nloaded  Unity Data\\Training\\Revital Marbel\\Revital636770957038873193Spontan.csv 1\nloaded  Unity Data\\Training\\Revital Marbel\\Revital636770957894370062Sync.csv 2\n\nloading in Unity Data\\Training\\Shahar Terner :\nloaded  Unity Data\\Training\\Shahar Terner\\Sachar636771045591258071Spontan.csv 1\nloaded  Unity Data\\Training\\Shahar Terner\\Sachar636771046527112972Sync.csv 2\nloaded  Unity Data\\Training\\Shahar Terner\\Sachar636771047408504303Alone.csv 0\n\nloading in Unity Data\\Training\\Shelly Social_Nuero :\nloaded  Unity Data\\Training\\Shelly Social_Nuero\\Shelly636759787508979097Spontan.csv 1\nloaded  Unity Data\\Training\\Shelly Social_Nuero\\Shelly636759788383205274Alone.csv 0\nloaded  Unity Data\\Training\\Shelly Social_Nuero\\Shelly636759789526313406Sync.csv 2\n\nloading in Unity Data\\Training\\Yael Hagai :\nloaded  Unity Data\\Training\\Yael Hagai\\Yael636771059544754823Spontan.csv 1\nloaded  Unity Data\\Training\\Yael Hagai\\Yael636771060699529085Sync.csv 2\nloaded  Unity Data\\Training\\Yael Hagai\\Yael636771061659067649Alone.csv 0\n\nloading in Unity Data\\Training\\Yoel Raz :\nloaded  Unity Data\\Training\\Yoel Raz\\Yoel636760921663075813Spontan.csv 1\nloaded  Unity Data\\Training\\Yoel Raz\\Yoel636760922573364655Alone.csv 0\nloaded  Unity Data\\Training\\Yoel Raz\\Yoel636760923490742912Sync.csv 2\n(193128, 20) 193128\n\nloading in Unity Data\\Validation\\Itiel Lab :\nloaded  Unity Data\\Validation\\Itiel Lab\\Itiel636770940701219076Spontan.csv 1\nloaded  Unity Data\\Validation\\Itiel Lab\\Itiel636770941638547912Sync.csv 2\nloaded  Unity Data\\Validation\\Itiel Lab\\Itiel636770942529041679Alone.csv 0\n\nloading in Unity Data\\Validation\\Mor SHerman :\nloaded  Unity Data\\Validation\\Mor SHerman\\Mor636771064635567065Spontan.csv 1\nloaded  Unity Data\\Validation\\Mor SHerman\\Mor636771065531910215Sync.csv 2\nloaded  Unity Data\\Validation\\Mor SHerman\\Mor636771066407626524Alone.csv 0\n\nloading in Unity Data\\Validation\\Oded Medina :\nloaded  Unity Data\\Validation\\Oded Medina\\Oded636754669540564461Alone.csv 0\nloaded  Unity Data\\Validation\\Oded Medina\\Oded636754670490266956Spontan.csv 1\nloaded  Unity Data\\Validation\\Oded Medina\\Oded636754671560850581Sync.csv 2\n(56210, 20) 56210\n"
    }
   ],
   "source": [
    "trainSet = DataLoader('Unity Data\\Training')\n",
    "testSet = DataLoader('Unity Data\\Validation')"
   ]
  },
  {
   "cell_type": "code",
   "execution_count": 73,
   "metadata": {},
   "outputs": [],
   "source": [
    "data = pd.DataFrame\n",
    "data = trainSet.dataMerged"
   ]
  },
  {
   "cell_type": "markdown",
   "metadata": {},
   "source": [
    "dataRaw is all the daraframes that we have already setup for us, now what we need is to generate from all of this,\n",
    "\n",
    "our actuall training data"
   ]
  },
  {
   "cell_type": "code",
   "execution_count": 74,
   "metadata": {},
   "outputs": [
    {
     "output_type": "execute_result",
     "data": {
      "text/plain": "    # hands   Velocity X   Velocity Y   Velocity Z     Pitch      Roll  \\\n0       0.0     67.33890     -6.28195   101.442200 -0.155174  0.078463   \n1       0.0     49.71883   -341.25160   -14.951780  1.199416  0.119953   \n2       0.0     63.82683    -27.71448    91.912690 -0.166827  0.079468   \n3       0.0     36.02574   -309.41180     0.574942  1.089347  0.092826   \n4       0.0     69.52037     12.69234    67.462470 -0.172697  0.079392   \n\n        Yaw   Wrist Pos X   Wrist Pos Y   Wrist Pos Z   Elbow pos X  \\\n0 -0.764891      59.46534      173.0233      60.61472      254.6348   \n1  1.519325     -92.19111      218.0329      12.57041     -309.3688   \n2 -0.760001      60.39677      173.5084      62.45371      257.0284   \n3  1.515014     -91.69262      214.4963      13.19102     -314.4200   \n4 -0.758363      61.55299      174.0561      63.92721      259.6933   \n\n    Elbow Pos Y   Elbow Pos Z   Grab Strenth   Grab Angle   Pinch Strength  \\\n0     127.27250     240.62390            0.0     0.401652              0.0   \n1      85.11283     -24.33749            0.0     0.603028              0.0   \n2     134.33960     242.42510            0.0     0.405177              0.0   \n3      89.30956     -17.08960            0.0     0.313147              0.0   \n4     142.51660     243.74310            0.0     0.378955              0.0   \n\n   state  \n0      0  \n1      0  \n2      0  \n3      0  \n4      0  ",
      "text/html": "<div>\n<style scoped>\n    .dataframe tbody tr th:only-of-type {\n        vertical-align: middle;\n    }\n\n    .dataframe tbody tr th {\n        vertical-align: top;\n    }\n\n    .dataframe thead th {\n        text-align: right;\n    }\n</style>\n<table border=\"1\" class=\"dataframe\">\n  <thead>\n    <tr style=\"text-align: right;\">\n      <th></th>\n      <th># hands</th>\n      <th>Velocity X</th>\n      <th>Velocity Y</th>\n      <th>Velocity Z</th>\n      <th>Pitch</th>\n      <th>Roll</th>\n      <th>Yaw</th>\n      <th>Wrist Pos X</th>\n      <th>Wrist Pos Y</th>\n      <th>Wrist Pos Z</th>\n      <th>Elbow pos X</th>\n      <th>Elbow Pos Y</th>\n      <th>Elbow Pos Z</th>\n      <th>Grab Strenth</th>\n      <th>Grab Angle</th>\n      <th>Pinch Strength</th>\n      <th>state</th>\n    </tr>\n  </thead>\n  <tbody>\n    <tr>\n      <th>0</th>\n      <td>0.0</td>\n      <td>67.33890</td>\n      <td>-6.28195</td>\n      <td>101.442200</td>\n      <td>-0.155174</td>\n      <td>0.078463</td>\n      <td>-0.764891</td>\n      <td>59.46534</td>\n      <td>173.0233</td>\n      <td>60.61472</td>\n      <td>254.6348</td>\n      <td>127.27250</td>\n      <td>240.62390</td>\n      <td>0.0</td>\n      <td>0.401652</td>\n      <td>0.0</td>\n      <td>0</td>\n    </tr>\n    <tr>\n      <th>1</th>\n      <td>0.0</td>\n      <td>49.71883</td>\n      <td>-341.25160</td>\n      <td>-14.951780</td>\n      <td>1.199416</td>\n      <td>0.119953</td>\n      <td>1.519325</td>\n      <td>-92.19111</td>\n      <td>218.0329</td>\n      <td>12.57041</td>\n      <td>-309.3688</td>\n      <td>85.11283</td>\n      <td>-24.33749</td>\n      <td>0.0</td>\n      <td>0.603028</td>\n      <td>0.0</td>\n      <td>0</td>\n    </tr>\n    <tr>\n      <th>2</th>\n      <td>0.0</td>\n      <td>63.82683</td>\n      <td>-27.71448</td>\n      <td>91.912690</td>\n      <td>-0.166827</td>\n      <td>0.079468</td>\n      <td>-0.760001</td>\n      <td>60.39677</td>\n      <td>173.5084</td>\n      <td>62.45371</td>\n      <td>257.0284</td>\n      <td>134.33960</td>\n      <td>242.42510</td>\n      <td>0.0</td>\n      <td>0.405177</td>\n      <td>0.0</td>\n      <td>0</td>\n    </tr>\n    <tr>\n      <th>3</th>\n      <td>0.0</td>\n      <td>36.02574</td>\n      <td>-309.41180</td>\n      <td>0.574942</td>\n      <td>1.089347</td>\n      <td>0.092826</td>\n      <td>1.515014</td>\n      <td>-91.69262</td>\n      <td>214.4963</td>\n      <td>13.19102</td>\n      <td>-314.4200</td>\n      <td>89.30956</td>\n      <td>-17.08960</td>\n      <td>0.0</td>\n      <td>0.313147</td>\n      <td>0.0</td>\n      <td>0</td>\n    </tr>\n    <tr>\n      <th>4</th>\n      <td>0.0</td>\n      <td>69.52037</td>\n      <td>12.69234</td>\n      <td>67.462470</td>\n      <td>-0.172697</td>\n      <td>0.079392</td>\n      <td>-0.758363</td>\n      <td>61.55299</td>\n      <td>174.0561</td>\n      <td>63.92721</td>\n      <td>259.6933</td>\n      <td>142.51660</td>\n      <td>243.74310</td>\n      <td>0.0</td>\n      <td>0.378955</td>\n      <td>0.0</td>\n      <td>0</td>\n    </tr>\n  </tbody>\n</table>\n</div>"
     },
     "metadata": {},
     "execution_count": 74
    },
    {
     "output_type": "execute_result",
     "data": {
      "text/plain": "       Position X   Position Y   Position Z   # hands   Velocity X  \\\n0        1.854658     163.3199     12.51509       0.0     67.33890   \n1      -20.808590     226.0860     17.08860       0.0     49.71883   \n2        2.990307     163.0106     14.22045       0.0     63.82683   \n3      -20.061710     220.5413     17.05443       0.0     36.02574   \n4        4.197042     162.9949     15.69018       0.0     69.52037   \n...           ...          ...          ...       ...          ...   \n6995   -73.616340     242.2852     69.19761       0.0   -188.33350   \n6996     3.230397     169.1729     -4.81981       0.0    224.79620   \n6997   -75.451450     242.0424     69.58482       0.0   -215.89570   \n6998     6.434268     161.4118    -12.09352       0.0    194.23230   \n6999   -77.681540     241.2202     70.17981       0.0   -104.96800   \n\n       Velocity Y   Velocity Z     Pitch      Roll       Yaw   Wrist Pos X  \\\n0        -6.28195   101.442200 -0.155174  0.078463 -0.764891      59.46534   \n1      -341.25160   -14.951780  1.199416  0.119953  1.519325     -92.19111   \n2       -27.71448    91.912690 -0.166827  0.079468 -0.760001      60.39677   \n3      -309.41180     0.574942  1.089347  0.092826  1.515014     -91.69262   \n4        12.69234    67.462470 -0.172697  0.079392 -0.758363      61.55299   \n...           ...          ...       ...       ...       ...           ...   \n6995    -50.49825    29.529870  1.857212  0.791704  1.893267    -119.80380   \n6996   -538.24620  -463.401900  0.351476  0.213730 -0.117169      22.59152   \n6997    -28.57200    45.553780  1.852507  0.801023  1.897196    -120.83340   \n6998   -373.04310  -408.729000  0.309624  0.220371 -0.108358      25.10394   \n6999    -32.57440    36.292190  1.832817  0.815892  1.893198    -121.49240   \n\n       Wrist Pos Y   Wrist Pos Z   Elbow pos X   Elbow Pos Y   Elbow Pos Z  \\\n0         173.0233      60.61472      254.6348     127.27250     240.62390   \n1         218.0329      12.57041     -309.3688      85.11283     -24.33749   \n2         173.5084      62.45371      257.0284     134.33960     242.42510   \n3         214.4963      13.19102     -314.4200      89.30956     -17.08960   \n4         174.0561      63.92721      259.6933     142.51660     243.74310   \n...            ...           ...           ...           ...           ...   \n6995      195.0393      45.57323     -299.4263      41.95221     -32.44111   \n6996      148.0959      66.18939      158.3324      41.64271     276.20630   \n6997      194.0461      45.91526     -299.5178      40.43322     -33.21206   \n6998      143.9342      60.14394      156.3949      60.15020     282.87230   \n6999      191.6418      46.86401     -302.7603      42.34424     -34.61201   \n\n       Grab Strenth   Grab Angle   Pinch Strength  state  \n0          0.000000     0.401652         0.000000      0  \n1          0.000000     0.603028         0.000000      0  \n2          0.000000     0.405177         0.000000      0  \n3          0.000000     0.313147         0.000000      0  \n4          0.000000     0.378955         0.000000      0  \n...             ...          ...              ...    ...  \n6995       0.163370     1.244664         0.201331      0  \n6996       0.000000     0.514317         0.000000      0  \n6997       0.236677     1.400911         0.336688      0  \n6998       0.000000     0.383218         0.000000      0  \n6999       0.351044     1.702121         0.551523      0  \n\n[7000 rows x 20 columns]",
      "text/html": "<div>\n<style scoped>\n    .dataframe tbody tr th:only-of-type {\n        vertical-align: middle;\n    }\n\n    .dataframe tbody tr th {\n        vertical-align: top;\n    }\n\n    .dataframe thead th {\n        text-align: right;\n    }\n</style>\n<table border=\"1\" class=\"dataframe\">\n  <thead>\n    <tr style=\"text-align: right;\">\n      <th></th>\n      <th>Position X</th>\n      <th>Position Y</th>\n      <th>Position Z</th>\n      <th># hands</th>\n      <th>Velocity X</th>\n      <th>Velocity Y</th>\n      <th>Velocity Z</th>\n      <th>Pitch</th>\n      <th>Roll</th>\n      <th>Yaw</th>\n      <th>Wrist Pos X</th>\n      <th>Wrist Pos Y</th>\n      <th>Wrist Pos Z</th>\n      <th>Elbow pos X</th>\n      <th>Elbow Pos Y</th>\n      <th>Elbow Pos Z</th>\n      <th>Grab Strenth</th>\n      <th>Grab Angle</th>\n      <th>Pinch Strength</th>\n      <th>state</th>\n    </tr>\n  </thead>\n  <tbody>\n    <tr>\n      <th>0</th>\n      <td>1.854658</td>\n      <td>163.3199</td>\n      <td>12.51509</td>\n      <td>0.0</td>\n      <td>67.33890</td>\n      <td>-6.28195</td>\n      <td>101.442200</td>\n      <td>-0.155174</td>\n      <td>0.078463</td>\n      <td>-0.764891</td>\n      <td>59.46534</td>\n      <td>173.0233</td>\n      <td>60.61472</td>\n      <td>254.6348</td>\n      <td>127.27250</td>\n      <td>240.62390</td>\n      <td>0.000000</td>\n      <td>0.401652</td>\n      <td>0.000000</td>\n      <td>0</td>\n    </tr>\n    <tr>\n      <th>1</th>\n      <td>-20.808590</td>\n      <td>226.0860</td>\n      <td>17.08860</td>\n      <td>0.0</td>\n      <td>49.71883</td>\n      <td>-341.25160</td>\n      <td>-14.951780</td>\n      <td>1.199416</td>\n      <td>0.119953</td>\n      <td>1.519325</td>\n      <td>-92.19111</td>\n      <td>218.0329</td>\n      <td>12.57041</td>\n      <td>-309.3688</td>\n      <td>85.11283</td>\n      <td>-24.33749</td>\n      <td>0.000000</td>\n      <td>0.603028</td>\n      <td>0.000000</td>\n      <td>0</td>\n    </tr>\n    <tr>\n      <th>2</th>\n      <td>2.990307</td>\n      <td>163.0106</td>\n      <td>14.22045</td>\n      <td>0.0</td>\n      <td>63.82683</td>\n      <td>-27.71448</td>\n      <td>91.912690</td>\n      <td>-0.166827</td>\n      <td>0.079468</td>\n      <td>-0.760001</td>\n      <td>60.39677</td>\n      <td>173.5084</td>\n      <td>62.45371</td>\n      <td>257.0284</td>\n      <td>134.33960</td>\n      <td>242.42510</td>\n      <td>0.000000</td>\n      <td>0.405177</td>\n      <td>0.000000</td>\n      <td>0</td>\n    </tr>\n    <tr>\n      <th>3</th>\n      <td>-20.061710</td>\n      <td>220.5413</td>\n      <td>17.05443</td>\n      <td>0.0</td>\n      <td>36.02574</td>\n      <td>-309.41180</td>\n      <td>0.574942</td>\n      <td>1.089347</td>\n      <td>0.092826</td>\n      <td>1.515014</td>\n      <td>-91.69262</td>\n      <td>214.4963</td>\n      <td>13.19102</td>\n      <td>-314.4200</td>\n      <td>89.30956</td>\n      <td>-17.08960</td>\n      <td>0.000000</td>\n      <td>0.313147</td>\n      <td>0.000000</td>\n      <td>0</td>\n    </tr>\n    <tr>\n      <th>4</th>\n      <td>4.197042</td>\n      <td>162.9949</td>\n      <td>15.69018</td>\n      <td>0.0</td>\n      <td>69.52037</td>\n      <td>12.69234</td>\n      <td>67.462470</td>\n      <td>-0.172697</td>\n      <td>0.079392</td>\n      <td>-0.758363</td>\n      <td>61.55299</td>\n      <td>174.0561</td>\n      <td>63.92721</td>\n      <td>259.6933</td>\n      <td>142.51660</td>\n      <td>243.74310</td>\n      <td>0.000000</td>\n      <td>0.378955</td>\n      <td>0.000000</td>\n      <td>0</td>\n    </tr>\n    <tr>\n      <th>...</th>\n      <td>...</td>\n      <td>...</td>\n      <td>...</td>\n      <td>...</td>\n      <td>...</td>\n      <td>...</td>\n      <td>...</td>\n      <td>...</td>\n      <td>...</td>\n      <td>...</td>\n      <td>...</td>\n      <td>...</td>\n      <td>...</td>\n      <td>...</td>\n      <td>...</td>\n      <td>...</td>\n      <td>...</td>\n      <td>...</td>\n      <td>...</td>\n      <td>...</td>\n    </tr>\n    <tr>\n      <th>6995</th>\n      <td>-73.616340</td>\n      <td>242.2852</td>\n      <td>69.19761</td>\n      <td>0.0</td>\n      <td>-188.33350</td>\n      <td>-50.49825</td>\n      <td>29.529870</td>\n      <td>1.857212</td>\n      <td>0.791704</td>\n      <td>1.893267</td>\n      <td>-119.80380</td>\n      <td>195.0393</td>\n      <td>45.57323</td>\n      <td>-299.4263</td>\n      <td>41.95221</td>\n      <td>-32.44111</td>\n      <td>0.163370</td>\n      <td>1.244664</td>\n      <td>0.201331</td>\n      <td>0</td>\n    </tr>\n    <tr>\n      <th>6996</th>\n      <td>3.230397</td>\n      <td>169.1729</td>\n      <td>-4.81981</td>\n      <td>0.0</td>\n      <td>224.79620</td>\n      <td>-538.24620</td>\n      <td>-463.401900</td>\n      <td>0.351476</td>\n      <td>0.213730</td>\n      <td>-0.117169</td>\n      <td>22.59152</td>\n      <td>148.0959</td>\n      <td>66.18939</td>\n      <td>158.3324</td>\n      <td>41.64271</td>\n      <td>276.20630</td>\n      <td>0.000000</td>\n      <td>0.514317</td>\n      <td>0.000000</td>\n      <td>0</td>\n    </tr>\n    <tr>\n      <th>6997</th>\n      <td>-75.451450</td>\n      <td>242.0424</td>\n      <td>69.58482</td>\n      <td>0.0</td>\n      <td>-215.89570</td>\n      <td>-28.57200</td>\n      <td>45.553780</td>\n      <td>1.852507</td>\n      <td>0.801023</td>\n      <td>1.897196</td>\n      <td>-120.83340</td>\n      <td>194.0461</td>\n      <td>45.91526</td>\n      <td>-299.5178</td>\n      <td>40.43322</td>\n      <td>-33.21206</td>\n      <td>0.236677</td>\n      <td>1.400911</td>\n      <td>0.336688</td>\n      <td>0</td>\n    </tr>\n    <tr>\n      <th>6998</th>\n      <td>6.434268</td>\n      <td>161.4118</td>\n      <td>-12.09352</td>\n      <td>0.0</td>\n      <td>194.23230</td>\n      <td>-373.04310</td>\n      <td>-408.729000</td>\n      <td>0.309624</td>\n      <td>0.220371</td>\n      <td>-0.108358</td>\n      <td>25.10394</td>\n      <td>143.9342</td>\n      <td>60.14394</td>\n      <td>156.3949</td>\n      <td>60.15020</td>\n      <td>282.87230</td>\n      <td>0.000000</td>\n      <td>0.383218</td>\n      <td>0.000000</td>\n      <td>0</td>\n    </tr>\n    <tr>\n      <th>6999</th>\n      <td>-77.681540</td>\n      <td>241.2202</td>\n      <td>70.17981</td>\n      <td>0.0</td>\n      <td>-104.96800</td>\n      <td>-32.57440</td>\n      <td>36.292190</td>\n      <td>1.832817</td>\n      <td>0.815892</td>\n      <td>1.893198</td>\n      <td>-121.49240</td>\n      <td>191.6418</td>\n      <td>46.86401</td>\n      <td>-302.7603</td>\n      <td>42.34424</td>\n      <td>-34.61201</td>\n      <td>0.351044</td>\n      <td>1.702121</td>\n      <td>0.551523</td>\n      <td>0</td>\n    </tr>\n  </tbody>\n</table>\n<p>7000 rows × 20 columns</p>\n</div>"
     },
     "metadata": {},
     "execution_count": 74
    }
   ],
   "source": [
    "k = trainSet.dataRaw[4]\n",
    "w = k.iloc[:,[1,2,3]]\n",
    "k = k.drop(k.columns[[1,2,3]], axis=1)\n",
    "k.head()\n",
    "k = pd.concat([w.reset_index(drop=True), k.reset_index(drop=True)], axis=1)\n",
    "k"
   ]
  },
  {
   "cell_type": "markdown",
   "metadata": {},
   "source": [
    "Lets generate our np_array so first of all lets create a new class,\n",
    "\n",
    "class would do the following it would get a settings : colloums it should drop, \n",
    "\n",
    "(jumps in time, and number of frames per row, andoverall jumps on the dataset),"
   ]
  },
  {
   "cell_type": "code",
   "execution_count": 75,
   "metadata": {},
   "outputs": [
    {
     "output_type": "execute_result",
     "data": {
      "text/plain": "Index([' Pitch'], dtype='object')"
     },
     "metadata": {},
     "execution_count": 75
    },
    {
     "output_type": "execute_result",
     "data": {
      "text/plain": "      Pitch\n0 -0.155174\n5  0.913572",
      "text/html": "<div>\n<style scoped>\n    .dataframe tbody tr th:only-of-type {\n        vertical-align: middle;\n    }\n\n    .dataframe tbody tr th {\n        vertical-align: top;\n    }\n\n    .dataframe thead th {\n        text-align: right;\n    }\n</style>\n<table border=\"1\" class=\"dataframe\">\n  <thead>\n    <tr style=\"text-align: right;\">\n      <th></th>\n      <th>Pitch</th>\n    </tr>\n  </thead>\n  <tbody>\n    <tr>\n      <th>0</th>\n      <td>-0.155174</td>\n    </tr>\n    <tr>\n      <th>5</th>\n      <td>0.913572</td>\n    </tr>\n  </tbody>\n</table>\n</div>"
     },
     "metadata": {},
     "execution_count": 75
    },
    {
     "output_type": "execute_result",
     "data": {
      "text/plain": "      Pitch\n1  1.199416\n6 -0.162573",
      "text/html": "<div>\n<style scoped>\n    .dataframe tbody tr th:only-of-type {\n        vertical-align: middle;\n    }\n\n    .dataframe tbody tr th {\n        vertical-align: top;\n    }\n\n    .dataframe thead th {\n        text-align: right;\n    }\n</style>\n<table border=\"1\" class=\"dataframe\">\n  <thead>\n    <tr style=\"text-align: right;\">\n      <th></th>\n      <th>Pitch</th>\n    </tr>\n  </thead>\n  <tbody>\n    <tr>\n      <th>1</th>\n      <td>1.199416</td>\n    </tr>\n    <tr>\n      <th>6</th>\n      <td>-0.162573</td>\n    </tr>\n  </tbody>\n</table>\n</div>"
     },
     "metadata": {},
     "execution_count": 75
    },
    {
     "output_type": "execute_result",
     "data": {
      "text/plain": "      Pitch\n0  0.522121\n1  0.375499",
      "text/html": "<div>\n<style scoped>\n    .dataframe tbody tr th:only-of-type {\n        vertical-align: middle;\n    }\n\n    .dataframe tbody tr th {\n        vertical-align: top;\n    }\n\n    .dataframe thead th {\n        text-align: right;\n    }\n</style>\n<table border=\"1\" class=\"dataframe\">\n  <thead>\n    <tr style=\"text-align: right;\">\n      <th></th>\n      <th>Pitch</th>\n    </tr>\n  </thead>\n  <tbody>\n    <tr>\n      <th>0</th>\n      <td>0.522121</td>\n    </tr>\n    <tr>\n      <th>1</th>\n      <td>0.375499</td>\n    </tr>\n  </tbody>\n</table>\n</div>"
     },
     "metadata": {},
     "execution_count": 75
    }
   ],
   "source": [
    "# k = training.dataRaw[4].iloc[1:2*2+1:2,:].to_numpy()\n",
    "# w = training.dataRaw[4].iloc[:2*2:2,:].to_numpy()\n",
    "# k\n",
    "# w\n",
    "\n",
    "# np.concatenate((k, w), axis=0)\n",
    "\n",
    "#training.dataRaw[4]['state'][0]\n",
    "\n",
    "w1 =  trainSet.dataRaw[4].iloc[::5,[7]][:2]\n",
    "w2 = trainSet.dataRaw[4].iloc[1::5,[7]][:2]\n",
    "\n",
    "w1.columns\n",
    "w1\n",
    "w2\n",
    "w3 = pd.concat([w1.reset_index(drop=True), w2.reset_index(drop=True)], axis = 1)\n",
    "w3.groupby(lambda x:x, axis=1).mean()\n",
    "\n",
    "#training.dataRaw[4].drop('state', axis=1)"
   ]
  },
  {
   "cell_type": "code",
   "execution_count": 76,
   "metadata": {},
   "outputs": [],
   "source": [
    "class DataToNP:\n",
    "    def __init__(self, label_index, jumps, combine = 4, skips = 1, drop_indecies = [], merge_indecies = []):\n",
    "        self.drop_indecies = drop_indecies\n",
    "        self.label_index = label_index\n",
    "        self.jumps = jumps\n",
    "        self.combine = combine\n",
    "        self.merge_indecies = merge_indecies\n",
    "        if(skips < 0):\n",
    "            skips = skips % self.jumps\n",
    "        self.skips = skips\n",
    "\n",
    "    def transform(self, data, skips = -1):\n",
    "        if(skips < 0):\n",
    "            skips = self.skips\n",
    "        state = data[self.label_index].iloc[0]\n",
    "        if(len(self.drop_indecies) > 0):\n",
    "            current = data.drop(data.columns[self.drop_indecies], axis=1)\n",
    "            current = current.drop(self.label_index, axis=1)\n",
    "        else:\n",
    "            current = data.drop(self.label_index, axis=1)\n",
    "        \n",
    "\n",
    "        mi = data.iloc[:,self.merge_indecies]\n",
    "        mi = pd.concat([mi.iloc[::2,:].reset_index(drop=True), mi.iloc[1::2,:].reset_index(drop=True)], axis=1)\n",
    "        current = current.drop(data.columns[self.merge_indecies], axis=1)\n",
    "        current = pd.concat([current.iloc[::2,:].reset_index(drop=True), current.iloc[1::2,:].reset_index(drop=True)], axis=1)\n",
    "        li = []\n",
    "        if(skips < 1):\n",
    "            skips = 1\n",
    "        for i in range(0, self.jumps, skips):\n",
    "            df = current.iloc[i::self.jumps,:]\n",
    "            comb = []\n",
    "            mis = []\n",
    "            for j in range(self.combine):\n",
    "                sample = df.iloc[j::self.combine]\n",
    "                mi_sample = mi.iloc[i::self.jumps,:].iloc[j::self.combine]\n",
    "                mis.append(mi_sample.reset_index(drop=True))\n",
    "                comb.append(sample.reset_index(drop=True))\n",
    "            \n",
    "            vmi = pd.concat(mis, axis=1).groupby(lambda x:x, axis=1).mean()\n",
    "            #comb.append(mi.iloc[i::self.jumps,:][::self.combine].reset_index(drop=True))\n",
    "            comb.append(vmi)\n",
    "            df = pd.concat(comb, axis=1)\n",
    "            #df['state'] = type\n",
    "            li.append(df.dropna())\n",
    "        df = pd.concat(li, axis=0, sort=False) \n",
    "        df['state'] = state     \n",
    "        return df\n",
    "    \n",
    "    def transform_arr(self, df_arr, skips = -1):\n",
    "        arr = []\n",
    "        print(\"combining\", len(df_arr), \"dataframes\")\n",
    "        for df in df_arr:\n",
    "            arr.append(self.transform(df, skips))\n",
    "            #X = np.concatenate((X, t[0]), axis=0)\n",
    "            #y = np.concatenate((y, t[1]), axis=0)\n",
    "        return arr\n",
    "        \n",
    "            "
   ]
  },
  {
   "cell_type": "markdown",
   "metadata": {},
   "source": [
    "Small test seeing that the class actually works!\n",
    "\n",
    "it does so cool,\n",
    "\n",
    "we want to combine every 2 rows ( right and left hand), then we want,\n",
    "\n",
    "to sample with jumps ( here its 2 ), and we will combine every 2 jumps.\n",
    "\n",
    "also if we got a line that has missing properties a.k.a we combined a line with a non existent one,\n",
    "\n",
    "we will drop that line"
   ]
  },
  {
   "cell_type": "code",
   "execution_count": 77,
   "metadata": {
    "tags": []
   },
   "outputs": [
    {
     "output_type": "execute_result",
     "data": {
      "text/plain": "   Name  Age  label\n0     1   20      1\n1     2   21      1\n2     3   19      1\n3     4   18      1\n4     5   20      1\n5     6   21      1\n6     7   19      1\n7     8   18      1\n8     9   17      1\n9    10   16      1",
      "text/html": "<div>\n<style scoped>\n    .dataframe tbody tr th:only-of-type {\n        vertical-align: middle;\n    }\n\n    .dataframe tbody tr th {\n        vertical-align: top;\n    }\n\n    .dataframe thead th {\n        text-align: right;\n    }\n</style>\n<table border=\"1\" class=\"dataframe\">\n  <thead>\n    <tr style=\"text-align: right;\">\n      <th></th>\n      <th>Name</th>\n      <th>Age</th>\n      <th>label</th>\n    </tr>\n  </thead>\n  <tbody>\n    <tr>\n      <th>0</th>\n      <td>1</td>\n      <td>20</td>\n      <td>1</td>\n    </tr>\n    <tr>\n      <th>1</th>\n      <td>2</td>\n      <td>21</td>\n      <td>1</td>\n    </tr>\n    <tr>\n      <th>2</th>\n      <td>3</td>\n      <td>19</td>\n      <td>1</td>\n    </tr>\n    <tr>\n      <th>3</th>\n      <td>4</td>\n      <td>18</td>\n      <td>1</td>\n    </tr>\n    <tr>\n      <th>4</th>\n      <td>5</td>\n      <td>20</td>\n      <td>1</td>\n    </tr>\n    <tr>\n      <th>5</th>\n      <td>6</td>\n      <td>21</td>\n      <td>1</td>\n    </tr>\n    <tr>\n      <th>6</th>\n      <td>7</td>\n      <td>19</td>\n      <td>1</td>\n    </tr>\n    <tr>\n      <th>7</th>\n      <td>8</td>\n      <td>18</td>\n      <td>1</td>\n    </tr>\n    <tr>\n      <th>8</th>\n      <td>9</td>\n      <td>17</td>\n      <td>1</td>\n    </tr>\n    <tr>\n      <th>9</th>\n      <td>10</td>\n      <td>16</td>\n      <td>1</td>\n    </tr>\n  </tbody>\n</table>\n</div>"
     },
     "metadata": {},
     "execution_count": 77
    },
    {
     "output_type": "execute_result",
     "data": {
      "text/plain": "   Name  Age  Name  Age  Name   Age  Name   Age  state\n0     1   20     2   21   5.0  20.0   6.0  21.0      1\n0     3   19     4   18   7.0  19.0   8.0  18.0      1",
      "text/html": "<div>\n<style scoped>\n    .dataframe tbody tr th:only-of-type {\n        vertical-align: middle;\n    }\n\n    .dataframe tbody tr th {\n        vertical-align: top;\n    }\n\n    .dataframe thead th {\n        text-align: right;\n    }\n</style>\n<table border=\"1\" class=\"dataframe\">\n  <thead>\n    <tr style=\"text-align: right;\">\n      <th></th>\n      <th>Name</th>\n      <th>Age</th>\n      <th>Name</th>\n      <th>Age</th>\n      <th>Name</th>\n      <th>Age</th>\n      <th>Name</th>\n      <th>Age</th>\n      <th>state</th>\n    </tr>\n  </thead>\n  <tbody>\n    <tr>\n      <th>0</th>\n      <td>1</td>\n      <td>20</td>\n      <td>2</td>\n      <td>21</td>\n      <td>5.0</td>\n      <td>20.0</td>\n      <td>6.0</td>\n      <td>21.0</td>\n      <td>1</td>\n    </tr>\n    <tr>\n      <th>0</th>\n      <td>3</td>\n      <td>19</td>\n      <td>4</td>\n      <td>18</td>\n      <td>7.0</td>\n      <td>19.0</td>\n      <td>8.0</td>\n      <td>18.0</td>\n      <td>1</td>\n    </tr>\n  </tbody>\n</table>\n</div>"
     },
     "metadata": {},
     "execution_count": 77
    },
    {
     "output_type": "stream",
     "name": "stdout",
     "text": "combining 2 dataframes\n"
    },
    {
     "output_type": "execute_result",
     "data": {
      "text/plain": "[   Name  Age  Name  Age  Name   Age  Name   Age  state\n 0     1   20     2   21   5.0  20.0   6.0  21.0      1\n 0     3   19     4   18   7.0  19.0   8.0  18.0      1,\n    Name  Age  Name  Age  Name   Age  Name   Age  state\n 0    11   20    22   21  55.0  20.0  66.0  21.0      2\n 0    33   19    44   18  77.0  19.0  88.0  18.0      2]"
     },
     "metadata": {},
     "execution_count": 77
    }
   ],
   "source": [
    "test_data = {'Name':[1, 2, 3, 4, 5, 6, 7, 8, 9, 10],\n",
    "        'Age':[20, 21, 19, 18, 20, 21, 19, 18, 17, 16],\n",
    "        'label':[1, 1, 1, 1, 1, 1, 1, 1, 1, 1]}\n",
    "test_data2 = {'Name':[11, 22, 33, 44, 55, 66, 77, 88, 99, 1010],\n",
    "        'Age':[20, 21, 19, 18, 20, 21, 19, 18, 17, 16],\n",
    "        'label':[2, 2, 2, 2, 2, 2, 2, 2, 2, 2]}\n",
    " \n",
    "test_df = pd.DataFrame(test_data)\n",
    "test_df2 = pd.DataFrame(test_data2)\n",
    "li = [test_df, test_df2]\n",
    "\n",
    "# Create DataFrame\n",
    "\n",
    "test_df\n",
    "combinerTest = DataToNP('label', 2, combine=2)\n",
    "combinerTest.transform(test_df)\n",
    "\n",
    "combinerTest.transform_arr(li)"
   ]
  },
  {
   "cell_type": "markdown",
   "metadata": {},
   "source": [
    "Lets see what is the corroletion to the state variable"
   ]
  },
  {
   "cell_type": "code",
   "execution_count": 78,
   "metadata": {},
   "outputs": [
    {
     "output_type": "execute_result",
     "data": {
      "text/plain": " # hands           0.830492\n Position X        0.077259\n Position Y        0.089554\n Position Z        0.047028\n Velocity X       -0.007780\n Velocity Y        0.008675\n Velocity Z        0.003729\n Pitch             0.257066\n Roll             -0.023557\n Yaw              -0.162749\n Wrist Pos X       0.110207\n Wrist Pos Y      -0.058052\n Wrist Pos Z      -0.137829\n Elbow pos X       0.108218\n Elbow Pos Y      -0.252712\n Elbow Pos Z      -0.399522\n Grab Strenth     -0.080044\n Grab Angle       -0.219273\n Pinch Strength   -0.137151\nstate              1.000000\nName: state, dtype: float64"
     },
     "metadata": {},
     "execution_count": 78
    }
   ],
   "source": [
    "corr_matrix = trainSet.dataMerged.corr()\n",
    "corr_matrix[\"state\"]"
   ]
  },
  {
   "cell_type": "code",
   "execution_count": 79,
   "metadata": {
    "tags": []
   },
   "outputs": [
    {
     "output_type": "execute_result",
     "data": {
      "text/plain": "20"
     },
     "metadata": {},
     "execution_count": 79
    },
    {
     "output_type": "execute_result",
     "data": {
      "text/plain": "     # hands   Grab Angle   Grab Strenth   Pinch Strength  state\n0        0.8     0.805184       0.072362         0.134520      1\n1        0.8     0.411345       0.042449         0.003385      1\n2        1.0     0.945570       0.100084         0.184384      1\n3        1.0     1.120967       0.209261         0.312322      1\n4        1.0     1.598069       0.362430         0.355919      1\n..       ...          ...            ...              ...    ...\n49       1.0     0.770665       0.068845         0.028501      1\n50       1.0     1.011708       0.100000         0.221990      1\n51       1.0     1.008322       0.050274         0.307427      1\n52       1.0     1.451354       0.308101         0.337846      1\n53       1.0     1.782871       0.500000         0.500000      1\n\n[810 rows x 5 columns]",
      "text/html": "<div>\n<style scoped>\n    .dataframe tbody tr th:only-of-type {\n        vertical-align: middle;\n    }\n\n    .dataframe tbody tr th {\n        vertical-align: top;\n    }\n\n    .dataframe thead th {\n        text-align: right;\n    }\n</style>\n<table border=\"1\" class=\"dataframe\">\n  <thead>\n    <tr style=\"text-align: right;\">\n      <th></th>\n      <th># hands</th>\n      <th>Grab Angle</th>\n      <th>Grab Strenth</th>\n      <th>Pinch Strength</th>\n      <th>state</th>\n    </tr>\n  </thead>\n  <tbody>\n    <tr>\n      <th>0</th>\n      <td>0.8</td>\n      <td>0.805184</td>\n      <td>0.072362</td>\n      <td>0.134520</td>\n      <td>1</td>\n    </tr>\n    <tr>\n      <th>1</th>\n      <td>0.8</td>\n      <td>0.411345</td>\n      <td>0.042449</td>\n      <td>0.003385</td>\n      <td>1</td>\n    </tr>\n    <tr>\n      <th>2</th>\n      <td>1.0</td>\n      <td>0.945570</td>\n      <td>0.100084</td>\n      <td>0.184384</td>\n      <td>1</td>\n    </tr>\n    <tr>\n      <th>3</th>\n      <td>1.0</td>\n      <td>1.120967</td>\n      <td>0.209261</td>\n      <td>0.312322</td>\n      <td>1</td>\n    </tr>\n    <tr>\n      <th>4</th>\n      <td>1.0</td>\n      <td>1.598069</td>\n      <td>0.362430</td>\n      <td>0.355919</td>\n      <td>1</td>\n    </tr>\n    <tr>\n      <th>...</th>\n      <td>...</td>\n      <td>...</td>\n      <td>...</td>\n      <td>...</td>\n      <td>...</td>\n    </tr>\n    <tr>\n      <th>49</th>\n      <td>1.0</td>\n      <td>0.770665</td>\n      <td>0.068845</td>\n      <td>0.028501</td>\n      <td>1</td>\n    </tr>\n    <tr>\n      <th>50</th>\n      <td>1.0</td>\n      <td>1.011708</td>\n      <td>0.100000</td>\n      <td>0.221990</td>\n      <td>1</td>\n    </tr>\n    <tr>\n      <th>51</th>\n      <td>1.0</td>\n      <td>1.008322</td>\n      <td>0.050274</td>\n      <td>0.307427</td>\n      <td>1</td>\n    </tr>\n    <tr>\n      <th>52</th>\n      <td>1.0</td>\n      <td>1.451354</td>\n      <td>0.308101</td>\n      <td>0.337846</td>\n      <td>1</td>\n    </tr>\n    <tr>\n      <th>53</th>\n      <td>1.0</td>\n      <td>1.782871</td>\n      <td>0.500000</td>\n      <td>0.500000</td>\n      <td>1</td>\n    </tr>\n  </tbody>\n</table>\n<p>810 rows × 5 columns</p>\n</div>"
     },
     "metadata": {},
     "execution_count": 79
    }
   ],
   "source": [
    "jumps = 15\n",
    "combine = 5\n",
    "skip = 1\n",
    "label = 'state'\n",
    "drop_indecies = range(1,trainSet.dataMerged.shape[1]-4)\n",
    "\n",
    "trainSet.dataMerged.shape[1]\n",
    "MyCombiner = DataToNP(label_index = label, skips=skip, jumps=jumps, combine=combine, \n",
    "    drop_indecies=drop_indecies, merge_indecies = [0,16,17,18])\n",
    "\n",
    "# test if we get the same dementions its working\n",
    "\n",
    "# MyCombiner.transform(training.dataRaw[4]).shape\n",
    "# (training.dataRaw[4].shape[1] - 1) * combine * 2\n",
    "# rows_afterJoining = (training.dataRaw[4].shape[0]/2) \n",
    "# import math\n",
    "# int(int(int(rows_afterJoining/jumps )/combine) * math.ceil(jumps / skip))\n",
    "\n",
    "w = MyCombiner.transform(training.dataRaw[3])\n",
    "w\n",
    "\n",
    "#training.dataRaw[3].columns"
   ]
  },
  {
   "cell_type": "markdown",
   "metadata": {},
   "source": [
    "Loots good so the combiner works as expected!\n",
    "\n",
    "there should be no problems with multiple dataFrames as it just doing the same function and combining the end result"
   ]
  },
  {
   "cell_type": "code",
   "execution_count": 80,
   "metadata": {
    "tags": []
   },
   "outputs": [
    {
     "output_type": "stream",
     "name": "stdout",
     "text": "combining 27 dataframes\ncombining 9 dataframes\n"
    }
   ],
   "source": [
    "train_df = MyCombiner.transform_arr(trainSet.dataRaw)\n",
    "test_df = MyCombiner.transform_arr(testSet.dataRaw)\n",
    "train_merged = pd.concat(train_df, axis=0, sort=False) \n",
    "test_merged = pd.concat(test_df, axis=0, sort=False) \n",
    "#X_train_df[0]\n",
    "#MyCombiner.transform(training.dataRaw[0])\n"
   ]
  },
  {
   "cell_type": "code",
   "execution_count": 81,
   "metadata": {},
   "outputs": [
    {
     "output_type": "execute_result",
     "data": {
      "text/plain": "(19527, 5)"
     },
     "metadata": {},
     "execution_count": 81
    },
    {
     "output_type": "execute_result",
     "data": {
      "text/plain": "(5686, 5)"
     },
     "metadata": {},
     "execution_count": 81
    }
   ],
   "source": [
    "train_merged.shape\n",
    "test_merged.shape\n",
    "\n",
    "m = train_merged.shape[1]"
   ]
  },
  {
   "cell_type": "code",
   "execution_count": 82,
   "metadata": {},
   "outputs": [
    {
     "output_type": "execute_result",
     "data": {
      "text/plain": " # hands           0.843713\n Grab Angle       -0.378694\n Grab Strenth     -0.168940\n Pinch Strength   -0.266196\nstate              1.000000\nName: state, dtype: float64"
     },
     "metadata": {},
     "execution_count": 82
    },
    {
     "output_type": "execute_result",
     "data": {
      "text/plain": " # hands           0.839211\n Grab Angle       -0.479526\n Grab Strenth     -0.301672\n Pinch Strength   -0.382238\nstate              1.000000\nName: state, dtype: float64"
     },
     "metadata": {},
     "execution_count": 82
    }
   ],
   "source": [
    "corr_matrix = train_merged.corr()\n",
    "corr_matrix['state']\n",
    "\n",
    "corr_matrix = test_merged.corr()\n",
    "corr_matrix['state']"
   ]
  },
  {
   "cell_type": "markdown",
   "metadata": {},
   "source": [
    "ineed we can see that both the training and test data look a like!"
   ]
  },
  {
   "cell_type": "code",
   "execution_count": 101,
   "metadata": {},
   "outputs": [],
   "source": [
    "def dataframeToXY(df):\n",
    "    X = df.iloc[:,range(0,m - 1)].to_numpy()\n",
    "    y = df['state'].to_numpy()\n",
    "    return (X, y)"
   ]
  },
  {
   "cell_type": "code",
   "execution_count": 103,
   "metadata": {
    "tags": []
   },
   "outputs": [
    {
     "output_type": "stream",
     "name": "stdout",
     "text": "[[1.00000000e+00 1.11863117e+00 1.85557819e-01 1.16387910e-02]\n [1.00000000e+00 6.79856350e-01 1.34175800e-03 3.31147600e-02]\n [1.00000000e+00 1.78942120e-01 0.00000000e+00 0.00000000e+00]\n [1.00000000e+00 5.14093991e-02 0.00000000e+00 0.00000000e+00]\n [0.00000000e+00 2.10833270e+00 2.82609220e-01 3.91836210e-01]] [1 1 2 2 0]\n"
    },
    {
     "output_type": "execute_result",
     "data": {
      "text/plain": "     # hands   Grab Angle   Grab Strenth   Pinch Strength  state\n0        1.0     1.118631       0.185558         0.011639      1\n14       1.0     0.679856       0.001342         0.033115      1\n28       1.0     0.178942       0.000000         0.000000      2\n42       1.0     0.051409       0.000000         0.000000      2\n4        0.0     2.108333       0.282609         0.391836      0",
      "text/html": "<div>\n<style scoped>\n    .dataframe tbody tr th:only-of-type {\n        vertical-align: middle;\n    }\n\n    .dataframe tbody tr th {\n        vertical-align: top;\n    }\n\n    .dataframe thead th {\n        text-align: right;\n    }\n</style>\n<table border=\"1\" class=\"dataframe\">\n  <thead>\n    <tr style=\"text-align: right;\">\n      <th></th>\n      <th># hands</th>\n      <th>Grab Angle</th>\n      <th>Grab Strenth</th>\n      <th>Pinch Strength</th>\n      <th>state</th>\n    </tr>\n  </thead>\n  <tbody>\n    <tr>\n      <th>0</th>\n      <td>1.0</td>\n      <td>1.118631</td>\n      <td>0.185558</td>\n      <td>0.011639</td>\n      <td>1</td>\n    </tr>\n    <tr>\n      <th>14</th>\n      <td>1.0</td>\n      <td>0.679856</td>\n      <td>0.001342</td>\n      <td>0.033115</td>\n      <td>1</td>\n    </tr>\n    <tr>\n      <th>28</th>\n      <td>1.0</td>\n      <td>0.178942</td>\n      <td>0.000000</td>\n      <td>0.000000</td>\n      <td>2</td>\n    </tr>\n    <tr>\n      <th>42</th>\n      <td>1.0</td>\n      <td>0.051409</td>\n      <td>0.000000</td>\n      <td>0.000000</td>\n      <td>2</td>\n    </tr>\n    <tr>\n      <th>4</th>\n      <td>0.0</td>\n      <td>2.108333</td>\n      <td>0.282609</td>\n      <td>0.391836</td>\n      <td>0</td>\n    </tr>\n  </tbody>\n</table>\n</div>"
     },
     "metadata": {},
     "execution_count": 103
    }
   ],
   "source": [
    "X_train_full, y_train_unshuffled = dataframeToXY(train_merged)\n",
    "\n",
    "print(X_train_full[::500][:5], y_train_unshuffled[::500][:5])\n",
    "train_merged.iloc[::500][:5]"
   ]
  },
  {
   "cell_type": "markdown",
   "metadata": {},
   "source": [
    "Lets create a validation set!"
   ]
  },
  {
   "cell_type": "code",
   "execution_count": 104,
   "metadata": {},
   "outputs": [],
   "source": [
    "def split(X, y, size = 0.8):\n",
    "    m = int(len(X) * size)\n",
    "    return (X[:m], y[:m], X[m:], y[m:])"
   ]
  },
  {
   "cell_type": "code",
   "execution_count": 96,
   "metadata": {},
   "outputs": [],
   "source": [
    "np.random.seed(42)\n",
    "\n",
    "shuffle_indecies = np.random.permutation(len(X_train_full))\n",
    "train_size = int(len(X_train_full) * 0.8)\n",
    "\n",
    "X_train = X_train_full[shuffle_indecies][:train_size]\n",
    "X_validate = X_train_full[shuffle_indecies][train_size:]\n",
    "\n",
    "y_train = y_train_unshuffled[shuffle_indecies][:train_size]\n",
    "y_validate = y_train_unshuffled[shuffle_indecies][train_size:]"
   ]
  },
  {
   "cell_type": "code",
   "execution_count": null,
   "metadata": {},
   "outputs": [],
   "source": [
    "np.random.seed(42)\n",
    "\n",
    "shuffle_indecies = np.random.permutation(len())"
   ]
  },
  {
   "cell_type": "code",
   "execution_count": 99,
   "metadata": {},
   "outputs": [
    {
     "output_type": "execute_result",
     "data": {
      "text/plain": "array([[1.        , 0.87018249, 0.1       , 0.21372421],\n       [1.        , 0.68609325, 0.1       , 0.14866803],\n       [0.        , 2.27305884, 0.5850421 , 0.51026192],\n       [0.5       , 1.03578963, 0.14153682, 0.03012584],\n       [1.        , 0.0761939 , 0.        , 0.        ]])"
     },
     "metadata": {},
     "execution_count": 99
    },
    {
     "output_type": "execute_result",
     "data": {
      "text/plain": "array([1, 1, 0, 2, 1], dtype=int64)"
     },
     "metadata": {},
     "execution_count": 99
    },
    {
     "output_type": "execute_result",
     "data": {
      "text/plain": "     # hands   Grab Angle   Grab Strenth   Pinch Strength  state\n18       1.0     0.870182       0.100000         0.213724      1\n5        1.0     0.686093       0.100000         0.148668      1\n34       0.0     2.273059       0.585042         0.510262      0\n26       0.5     1.035790       0.141537         0.030126      2\n4        1.0     0.076194       0.000000         0.000000      1",
      "text/html": "<div>\n<style scoped>\n    .dataframe tbody tr th:only-of-type {\n        vertical-align: middle;\n    }\n\n    .dataframe tbody tr th {\n        vertical-align: top;\n    }\n\n    .dataframe thead th {\n        text-align: right;\n    }\n</style>\n<table border=\"1\" class=\"dataframe\">\n  <thead>\n    <tr style=\"text-align: right;\">\n      <th></th>\n      <th># hands</th>\n      <th>Grab Angle</th>\n      <th>Grab Strenth</th>\n      <th>Pinch Strength</th>\n      <th>state</th>\n    </tr>\n  </thead>\n  <tbody>\n    <tr>\n      <th>18</th>\n      <td>1.0</td>\n      <td>0.870182</td>\n      <td>0.100000</td>\n      <td>0.213724</td>\n      <td>1</td>\n    </tr>\n    <tr>\n      <th>5</th>\n      <td>1.0</td>\n      <td>0.686093</td>\n      <td>0.100000</td>\n      <td>0.148668</td>\n      <td>1</td>\n    </tr>\n    <tr>\n      <th>34</th>\n      <td>0.0</td>\n      <td>2.273059</td>\n      <td>0.585042</td>\n      <td>0.510262</td>\n      <td>0</td>\n    </tr>\n    <tr>\n      <th>26</th>\n      <td>0.5</td>\n      <td>1.035790</td>\n      <td>0.141537</td>\n      <td>0.030126</td>\n      <td>2</td>\n    </tr>\n    <tr>\n      <th>4</th>\n      <td>1.0</td>\n      <td>0.076194</td>\n      <td>0.000000</td>\n      <td>0.000000</td>\n      <td>1</td>\n    </tr>\n  </tbody>\n</table>\n</div>"
     },
     "metadata": {},
     "execution_count": 99
    }
   ],
   "source": [
    "X_train[:5]\n",
    "y_train[:5]\n",
    "train_merged.iloc[shuffle_indecies][:5]"
   ]
  },
  {
   "cell_type": "markdown",
   "metadata": {},
   "source": [
    "Nice we've got a training set, validation set, and test set\n",
    "\n",
    "now we can test some models"
   ]
  },
  {
   "cell_type": "code",
   "execution_count": 100,
   "metadata": {},
   "outputs": [
    {
     "output_type": "execute_result",
     "data": {
      "text/plain": "LinearRegression()"
     },
     "metadata": {},
     "execution_count": 100
    },
    {
     "output_type": "execute_result",
     "data": {
      "text/plain": "0.7584489032245849"
     },
     "metadata": {},
     "execution_count": 100
    },
    {
     "output_type": "execute_result",
     "data": {
      "text/plain": "0.7555033787575105"
     },
     "metadata": {},
     "execution_count": 100
    }
   ],
   "source": [
    "from sklearn.linear_model import LinearRegression\n",
    "\n",
    "lin_reg = LinearRegression()\n",
    "lin_reg.fit(X_train, y_train)\n",
    "\n",
    "lin_reg.score(X_train, y_train)\n",
    "lin_reg.score(X_validate, y_validate)\n",
    "\n",
    "lin_reg.score(X_test)"
   ]
  }
 ]
}