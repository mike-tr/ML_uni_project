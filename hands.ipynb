{
 "metadata": {
  "language_info": {
   "codemirror_mode": {
    "name": "ipython",
    "version": 3
   },
   "file_extension": ".py",
   "mimetype": "text/x-python",
   "name": "python",
   "nbconvert_exporter": "python",
   "pygments_lexer": "ipython3",
   "version": "3.8.5-final"
  },
  "orig_nbformat": 2,
  "kernelspec": {
   "name": "python_defaultSpec_1598530527747",
   "display_name": "Python 3.8.5 64-bit ('myproject': conda)"
  }
 },
 "nbformat": 4,
 "nbformat_minor": 2,
 "cells": [
  {
   "cell_type": "code",
   "execution_count": 1,
   "metadata": {},
   "outputs": [],
   "source": [
    "# Python ≥3.5 is required\n",
    "import sys\n",
    "assert sys.version_info >= (3, 5)\n",
    "\n",
    "# Scikit-Learn ≥0.20 is required\n",
    "import sklearn\n",
    "assert sklearn.__version__ >= \"0.20\"\n",
    "\n",
    "# Common imports\n",
    "import numpy as np\n",
    "import os\n",
    "\n",
    "# to make this notebook's output stable across runs\n",
    "np.random.seed(42)\n",
    "\n",
    "# To plot pretty figures\n",
    "%matplotlib inline\n",
    "import matplotlib as mpl\n",
    "import matplotlib.pyplot as plt\n",
    "mpl.rc('axes', labelsize=14)\n",
    "mpl.rc('xtick', labelsize=12)\n",
    "mpl.rc('ytick', labelsize=12)\n",
    "\n",
    "# Where to save the figures\n",
    "PROJECT_ROOT_DIR = \".\"\n",
    "CHAPTER_ID = \"dim_reduction\"\n",
    "IMAGES_PATH = os.path.join(PROJECT_ROOT_DIR, \"images\", CHAPTER_ID)\n",
    "os.makedirs(IMAGES_PATH, exist_ok=True)\n",
    "\n",
    "def save_fig(fig_id, tight_layout=True, fig_extension=\"png\", resolution=300):\n",
    "    path = os.path.join(IMAGES_PATH, fig_id + \".\" + fig_extension)\n",
    "    #print(\"Saving figure\", fig_id)\n",
    "    if tight_layout:\n",
    "        plt.tight_layout()\n",
    "    plt.savefig(path, format=fig_extension, dpi=resolution)\n",
    "\n",
    "# Ignore useless warnings (see SciPy issue #5998)\n",
    "import warnings\n",
    "warnings.filterwarnings(action=\"ignore\", message=\"^internal gelsd\")\n",
    "\n",
    "from IPython.core.interactiveshell import InteractiveShell\n",
    "InteractiveShell.ast_node_interactivity = \"all\"\n",
    "\n",
    "from IPython.utils import io\n",
    "\n",
    "with io.capture_output() as captured:\n",
    "    print('no prints in here')\n",
    "\n",
    "import time\n",
    "import pandas as pd"
   ]
  },
  {
   "cell_type": "code",
   "execution_count": 2,
   "metadata": {},
   "outputs": [],
   "source": [
    "Alone = 0\n",
    "Spontan = 1\n",
    "Sync = 2"
   ]
  },
  {
   "cell_type": "markdown",
   "metadata": {},
   "source": [
    "First lets load the right hand solo,\n",
    "and we would actually from the get go merge it to the solo hands"
   ]
  },
  {
   "cell_type": "code",
   "execution_count": 3,
   "metadata": {},
   "outputs": [],
   "source": [
    "HandRight = pd.read_csv(\"Unity Data\\HandRight.csv\")\n",
    "#HandRight.head(10)"
   ]
  },
  {
   "cell_type": "code",
   "execution_count": 4,
   "metadata": {},
   "outputs": [],
   "source": [
    "drop_indecies = [1,2,3] # notice we are droping hands count because this is cheating!"
   ]
  },
  {
   "cell_type": "code",
   "execution_count": 5,
   "metadata": {},
   "outputs": [],
   "source": [
    "HandRight = HandRight.drop(HandRight.columns[drop_indecies], axis=1)\n",
    "HandRight = HandRight.iloc[500:4000]"
   ]
  },
  {
   "cell_type": "code",
   "execution_count": 6,
   "metadata": {
    "tags": []
   },
   "outputs": [
    {
     "output_type": "execute_result",
     "data": {
      "text/plain": "(3500, 19)"
     },
     "metadata": {},
     "execution_count": 6
    }
   ],
   "source": [
    "HandRight.shape\n",
    "\n",
    "#HandRight.info()"
   ]
  },
  {
   "cell_type": "code",
   "execution_count": 69,
   "metadata": {},
   "outputs": [
    {
     "output_type": "execute_result",
     "data": {
      "text/plain": "(875, 38)"
     },
     "metadata": {},
     "execution_count": 69
    }
   ],
   "source": [
    "k = pd.concat([HandRight.iloc[::4,:].reset_index(drop=True), HandRight.iloc[1::4,:].reset_index(drop=True)], axis=1)\n",
    "k.shape\n"
   ]
  },
  {
   "cell_type": "code",
   "execution_count": 24,
   "metadata": {},
   "outputs": [
    {
     "output_type": "execute_result",
     "data": {
      "text/plain": "         Time   Position X   Position Y   Position Z   Velocity X  \\\n501  136.6354     2.990307     163.0106     14.22045     63.82683   \n504  136.6873     6.809369     163.0750     18.31746     64.54992   \n507  136.7356     9.854824     164.6740     21.33324     48.95504   \n510  136.7852    11.725840     165.0486     23.11185     43.53115   \n513  136.8351    13.715930     161.7758     25.69214     20.70159   \n\n      Velocity Y   Velocity Z     Pitch      Roll       Yaw   Wrist Pos X  \\\n501   -27.714480     91.91269 -0.166827  0.079468 -0.760001      60.39677   \n504   -20.254740     60.26554 -0.162684  0.071400 -0.747182      63.80330   \n507    50.646190     53.46980 -0.138619  0.050727 -0.728599      66.04675   \n510    -0.453021     43.83520 -0.134189  0.040016 -0.717533      67.10747   \n513  -149.392500     45.11576 -0.099915  0.021586 -0.695190      67.89079   \n\n      Wrist Pos Y   Wrist Pos Z   Elbow pos X   Elbow Pos Y   Elbow Pos Z  \\\n501      173.5084      62.45371      257.0284      134.3396      242.4251   \n504      173.8077      67.11089      263.0048      144.4967      246.1332   \n507      174.0629      71.30888      260.6205      138.9874      254.3455   \n510      174.2701      73.99036      252.3753      140.8113      266.7354   \n513      169.6017      78.13200      244.3223      140.6269      279.7040   \n\n      Grab Strenth   Grab Angle   Pinch Strength  \n501            0.0     0.405177              0.0  \n504            0.0     0.299372              0.0  \n507            0.0     0.332174              0.0  \n510            0.0     0.404081              0.0  \n513            0.0     0.508077              0.0  ",
      "text/html": "<div>\n<style scoped>\n    .dataframe tbody tr th:only-of-type {\n        vertical-align: middle;\n    }\n\n    .dataframe tbody tr th {\n        vertical-align: top;\n    }\n\n    .dataframe thead th {\n        text-align: right;\n    }\n</style>\n<table border=\"1\" class=\"dataframe\">\n  <thead>\n    <tr style=\"text-align: right;\">\n      <th></th>\n      <th>Time</th>\n      <th>Position X</th>\n      <th>Position Y</th>\n      <th>Position Z</th>\n      <th>Velocity X</th>\n      <th>Velocity Y</th>\n      <th>Velocity Z</th>\n      <th>Pitch</th>\n      <th>Roll</th>\n      <th>Yaw</th>\n      <th>Wrist Pos X</th>\n      <th>Wrist Pos Y</th>\n      <th>Wrist Pos Z</th>\n      <th>Elbow pos X</th>\n      <th>Elbow Pos Y</th>\n      <th>Elbow Pos Z</th>\n      <th>Grab Strenth</th>\n      <th>Grab Angle</th>\n      <th>Pinch Strength</th>\n    </tr>\n  </thead>\n  <tbody>\n    <tr>\n      <th>501</th>\n      <td>136.6354</td>\n      <td>2.990307</td>\n      <td>163.0106</td>\n      <td>14.22045</td>\n      <td>63.82683</td>\n      <td>-27.714480</td>\n      <td>91.91269</td>\n      <td>-0.166827</td>\n      <td>0.079468</td>\n      <td>-0.760001</td>\n      <td>60.39677</td>\n      <td>173.5084</td>\n      <td>62.45371</td>\n      <td>257.0284</td>\n      <td>134.3396</td>\n      <td>242.4251</td>\n      <td>0.0</td>\n      <td>0.405177</td>\n      <td>0.0</td>\n    </tr>\n    <tr>\n      <th>504</th>\n      <td>136.6873</td>\n      <td>6.809369</td>\n      <td>163.0750</td>\n      <td>18.31746</td>\n      <td>64.54992</td>\n      <td>-20.254740</td>\n      <td>60.26554</td>\n      <td>-0.162684</td>\n      <td>0.071400</td>\n      <td>-0.747182</td>\n      <td>63.80330</td>\n      <td>173.8077</td>\n      <td>67.11089</td>\n      <td>263.0048</td>\n      <td>144.4967</td>\n      <td>246.1332</td>\n      <td>0.0</td>\n      <td>0.299372</td>\n      <td>0.0</td>\n    </tr>\n    <tr>\n      <th>507</th>\n      <td>136.7356</td>\n      <td>9.854824</td>\n      <td>164.6740</td>\n      <td>21.33324</td>\n      <td>48.95504</td>\n      <td>50.646190</td>\n      <td>53.46980</td>\n      <td>-0.138619</td>\n      <td>0.050727</td>\n      <td>-0.728599</td>\n      <td>66.04675</td>\n      <td>174.0629</td>\n      <td>71.30888</td>\n      <td>260.6205</td>\n      <td>138.9874</td>\n      <td>254.3455</td>\n      <td>0.0</td>\n      <td>0.332174</td>\n      <td>0.0</td>\n    </tr>\n    <tr>\n      <th>510</th>\n      <td>136.7852</td>\n      <td>11.725840</td>\n      <td>165.0486</td>\n      <td>23.11185</td>\n      <td>43.53115</td>\n      <td>-0.453021</td>\n      <td>43.83520</td>\n      <td>-0.134189</td>\n      <td>0.040016</td>\n      <td>-0.717533</td>\n      <td>67.10747</td>\n      <td>174.2701</td>\n      <td>73.99036</td>\n      <td>252.3753</td>\n      <td>140.8113</td>\n      <td>266.7354</td>\n      <td>0.0</td>\n      <td>0.404081</td>\n      <td>0.0</td>\n    </tr>\n    <tr>\n      <th>513</th>\n      <td>136.8351</td>\n      <td>13.715930</td>\n      <td>161.7758</td>\n      <td>25.69214</td>\n      <td>20.70159</td>\n      <td>-149.392500</td>\n      <td>45.11576</td>\n      <td>-0.099915</td>\n      <td>0.021586</td>\n      <td>-0.695190</td>\n      <td>67.89079</td>\n      <td>169.6017</td>\n      <td>78.13200</td>\n      <td>244.3223</td>\n      <td>140.6269</td>\n      <td>279.7040</td>\n      <td>0.0</td>\n      <td>0.508077</td>\n      <td>0.0</td>\n    </tr>\n  </tbody>\n</table>\n</div>"
     },
     "metadata": {},
     "execution_count": 24
    }
   ],
   "source": [
    "#HandRight.iloc[1:5*3+1:3,:]"
   ]
  },
  {
   "cell_type": "code",
   "execution_count": 8,
   "metadata": {},
   "outputs": [],
   "source": [
    "def TransformData(df, type):\n",
    "    df = df.drop(df.columns[drop_indecies], axis=1)\n",
    "    if(type == Alone):\n",
    "        df = df.iloc[500:4000]\n",
    "        maxX = df.shape[0]\n",
    "        combine = np.hstack([HandRight[:maxX].values, df.values]).reshape(-1, df.shape[1])\n",
    "        df = pd.DataFrame(combine, columns=df.columns)\n",
    "    else:\n",
    "        df = df.iloc[1000:9000]\n",
    "        maxX = int(df.shape[0] / 2) * 2\n",
    "        df = df.iloc[:maxX]\n",
    "    df[\"state\"] = type\n",
    "    return df"
   ]
  },
  {
   "cell_type": "code",
   "execution_count": 9,
   "metadata": {},
   "outputs": [],
   "source": [
    "import glob\n",
    "\n",
    "class DataLoader:\n",
    "    def __init__(self, path):\n",
    "        li = []\n",
    "        all_files = glob.glob(path + \"/*\")\n",
    "        v = 0\n",
    "        for folder in all_files:\n",
    "            print(\"\\nloading in\" ,folder, ':')\n",
    "            files = glob.glob(folder + \"/*.csv\")\n",
    "            for filename in files:\n",
    "                df = pd.read_csv(filename, index_col=None, header=0)\n",
    "                type = None\n",
    "                if(\"Alone\" in filename):\n",
    "                    type = Alone\n",
    "                elif(\"Sync\" in filename):\n",
    "                    type = Sync\n",
    "                elif(\"Spontan\" in filename):\n",
    "                    type = Spontan\n",
    "                df = TransformData(df, type)\n",
    "                v += df.shape[0]\n",
    "                li.append(df)\n",
    "                print('loaded ', filename, type)\n",
    "        self.dataRaw = li\n",
    "        self.dataMerged = pd.concat(li, axis=0, sort=False)\n",
    "        print(self.dataMerged.shape, v)"
   ]
  },
  {
   "cell_type": "code",
   "execution_count": 10,
   "metadata": {
    "tags": []
   },
   "outputs": [
    {
     "output_type": "stream",
     "name": "stdout",
     "text": "\nloading in Unity Data\\Training\\Evyatar Cohen :\nloaded  Unity Data\\Training\\Evyatar Cohen\\Evyatar636771052727603804Spontan.csv 1\nloaded  Unity Data\\Training\\Evyatar Cohen\\Evyatar636771053639929594Sync.csv 2\nloaded  Unity Data\\Training\\Evyatar Cohen\\Evyatar636771054555711409Alone.csv 0\n\nloading in Unity Data\\Training\\Nofar Social_Nuero :\nloaded Unity Data\\Training\\Nofar Social_Nuero\\Nofar636759795182793299Spontan.csv 1\nloaded  Unity Data\\Training\\Nofar Social_Nuero\\Nofar636759796290435160Alone.csv 0\nloaded  Unity Data\\Training\\Nofar Social_Nuero\\Nofar636759797397919664Sync.csv 2\n\nloading in Unity Data\\Training\\Oriya Social_Nuero :\nloaded  Unity Data\\Training\\Oriya Social_Nuero\\Oriya636759804404113837Spontan.csv 1\nloaded  Unity Data\\Training\\Oriya Social_Nuero\\Oriya636759805268396661Alone.csv 0\nloaded  Unity Data\\Training\\Oriya Social_Nuero\\Oriya636759806131350399Sync.csv 2\n\nloading in Unity Data\\Training\\Orya Kalmanovitz :\nloaded  Unity Data\\Training\\Orya Kalmanovitz\\OryaB636771082736601528Alone.csv 0\nloaded  Unity Data\\Training\\Orya Kalmanovitz\\OryaB636771083605535985Spontan.csv 1\nloaded  Unity Data\\Training\\Orya Kalmanovitz\\OryaB636771084494502229Sync.csv 2\n\nloading in Unity Data\\Training\\Revital Marbel :\nloaded  Unity Data\\Training\\Revital Marbel\\Revital636770955999435879Alone.csv 0\nloaded  Unity Data\\Training\\Revital Marbel\\Revital636770957038873193Spontan.csv 1\nloaded  Unity Data\\Training\\Revital Marbel\\Revital636770957894370062Sync.csv 2\n\nloading in Unity Data\\Training\\Shahar Terner :\nloaded  Unity Data\\Training\\Shahar Terner\\Sachar636771045591258071Spontan.csv 1\nloaded  Unity Data\\Training\\Shahar Terner\\Sachar636771046527112972Sync.csv 2\nloaded  Unity Data\\Training\\Shahar Terner\\Sachar636771047408504303Alone.csv 0\n\nloading in Unity Data\\Training\\Shelly Social_Nuero :\nloaded  Unity Data\\Training\\Shelly Social_Nuero\\Shelly636759787508979097Spontan.csv 1\nloaded  Unity Data\\Training\\Shelly Social_Nuero\\Shelly636759788383205274Alone.csv 0\nloaded  Unity Data\\Training\\Shelly Social_Nuero\\Shelly636759789526313406Sync.csv 2\n\nloading in Unity Data\\Training\\Yael Hagai :\nloaded  Unity Data\\Training\\Yael Hagai\\Yael636771059544754823Spontan.csv 1\nloaded Unity Data\\Training\\Yael Hagai\\Yael636771060699529085Sync.csv 2\nloaded  Unity Data\\Training\\Yael Hagai\\Yael636771061659067649Alone.csv 0\n\nloading in Unity Data\\Training\\Yoel Raz :\nloaded  Unity Data\\Training\\Yoel Raz\\Yoel636760921663075813Spontan.csv 1\nloaded  Unity Data\\Training\\Yoel Raz\\Yoel636760922573364655Alone.csv 0\nloaded  Unity Data\\Training\\Yoel Raz\\Yoel636760923490742912Sync.csv 2\n(193128, 20) 193128\n"
    }
   ],
   "source": [
    "training = DataLoader('Unity Data\\Training')"
   ]
  },
  {
   "cell_type": "code",
   "execution_count": 11,
   "metadata": {},
   "outputs": [],
   "source": [
    "data = pd.DataFrame\n",
    "data = training.dataMerged"
   ]
  },
  {
   "cell_type": "markdown",
   "metadata": {},
   "source": [
    "dataRaw is all the daraframes that we have already setup for us, now what we need is to generate from all of this,\n",
    "\n",
    "our actuall training data"
   ]
  },
  {
   "cell_type": "code",
   "execution_count": 12,
   "metadata": {},
   "outputs": [
    {
     "output_type": "execute_result",
     "data": {
      "text/plain": "       Time   Position X   Position Y   Position Z   Velocity X   Velocity Y  \\\n0  136.6184     1.854658     163.3199     12.51509     67.33890     -6.28195   \n1  504.3504   -20.808590     226.0860     17.08860     49.71883   -341.25160   \n2  136.6354     2.990307     163.0106     14.22045     63.82683    -27.71448   \n3  504.3669   -20.061710     220.5413     17.05443     36.02574   -309.41180   \n4  136.6524     4.197042     162.9949     15.69018     69.52037     12.69234   \n\n    Velocity Z     Pitch      Roll       Yaw   Wrist Pos X   Wrist Pos Y  \\\n0   101.442200 -0.155174  0.078463 -0.764891      59.46534      173.0233   \n1   -14.951780  1.199416  0.119953  1.519325     -92.19111      218.0329   \n2    91.912690 -0.166827  0.079468 -0.760001      60.39677      173.5084   \n3     0.574942  1.089347  0.092826  1.515014     -91.69262      214.4963   \n4    67.462470 -0.172697  0.079392 -0.758363      61.55299      174.0561   \n\n    Wrist Pos Z   Elbow pos X   Elbow Pos Y   Elbow Pos Z   Grab Strenth  \\\n0      60.61472      254.6348     127.27250     240.62390            0.0   \n1      12.57041     -309.3688      85.11283     -24.33749            0.0   \n2      62.45371      257.0284     134.33960     242.42510            0.0   \n3      13.19102     -314.4200      89.30956     -17.08960            0.0   \n4      63.92721      259.6933     142.51660     243.74310            0.0   \n\n    Grab Angle   Pinch Strength  state  \n0     0.401652              0.0      0  \n1     0.603028              0.0      0  \n2     0.405177              0.0      0  \n3     0.313147              0.0      0  \n4     0.378955              0.0      0  ",
      "text/html": "<div>\n<style scoped>\n    .dataframe tbody tr th:only-of-type {\n        vertical-align: middle;\n    }\n\n    .dataframe tbody tr th {\n        vertical-align: top;\n    }\n\n    .dataframe thead th {\n        text-align: right;\n    }\n</style>\n<table border=\"1\" class=\"dataframe\">\n  <thead>\n    <tr style=\"text-align: right;\">\n      <th></th>\n      <th>Time</th>\n      <th>Position X</th>\n      <th>Position Y</th>\n      <th>Position Z</th>\n      <th>Velocity X</th>\n      <th>Velocity Y</th>\n      <th>Velocity Z</th>\n      <th>Pitch</th>\n      <th>Roll</th>\n      <th>Yaw</th>\n      <th>Wrist Pos X</th>\n      <th>Wrist Pos Y</th>\n      <th>Wrist Pos Z</th>\n      <th>Elbow pos X</th>\n      <th>Elbow Pos Y</th>\n      <th>Elbow Pos Z</th>\n      <th>Grab Strenth</th>\n      <th>Grab Angle</th>\n      <th>Pinch Strength</th>\n      <th>state</th>\n    </tr>\n  </thead>\n  <tbody>\n    <tr>\n      <th>0</th>\n      <td>136.6184</td>\n      <td>1.854658</td>\n      <td>163.3199</td>\n      <td>12.51509</td>\n      <td>67.33890</td>\n      <td>-6.28195</td>\n      <td>101.442200</td>\n      <td>-0.155174</td>\n      <td>0.078463</td>\n      <td>-0.764891</td>\n      <td>59.46534</td>\n      <td>173.0233</td>\n      <td>60.61472</td>\n      <td>254.6348</td>\n      <td>127.27250</td>\n      <td>240.62390</td>\n      <td>0.0</td>\n      <td>0.401652</td>\n      <td>0.0</td>\n      <td>0</td>\n    </tr>\n    <tr>\n      <th>1</th>\n      <td>504.3504</td>\n      <td>-20.808590</td>\n      <td>226.0860</td>\n      <td>17.08860</td>\n      <td>49.71883</td>\n      <td>-341.25160</td>\n      <td>-14.951780</td>\n      <td>1.199416</td>\n      <td>0.119953</td>\n      <td>1.519325</td>\n      <td>-92.19111</td>\n      <td>218.0329</td>\n      <td>12.57041</td>\n      <td>-309.3688</td>\n      <td>85.11283</td>\n      <td>-24.33749</td>\n      <td>0.0</td>\n      <td>0.603028</td>\n      <td>0.0</td>\n      <td>0</td>\n    </tr>\n    <tr>\n      <th>2</th>\n      <td>136.6354</td>\n      <td>2.990307</td>\n      <td>163.0106</td>\n      <td>14.22045</td>\n      <td>63.82683</td>\n      <td>-27.71448</td>\n      <td>91.912690</td>\n      <td>-0.166827</td>\n      <td>0.079468</td>\n      <td>-0.760001</td>\n      <td>60.39677</td>\n      <td>173.5084</td>\n      <td>62.45371</td>\n      <td>257.0284</td>\n      <td>134.33960</td>\n      <td>242.42510</td>\n      <td>0.0</td>\n      <td>0.405177</td>\n      <td>0.0</td>\n      <td>0</td>\n    </tr>\n    <tr>\n      <th>3</th>\n      <td>504.3669</td>\n      <td>-20.061710</td>\n      <td>220.5413</td>\n      <td>17.05443</td>\n      <td>36.02574</td>\n      <td>-309.41180</td>\n      <td>0.574942</td>\n      <td>1.089347</td>\n      <td>0.092826</td>\n      <td>1.515014</td>\n      <td>-91.69262</td>\n      <td>214.4963</td>\n      <td>13.19102</td>\n      <td>-314.4200</td>\n      <td>89.30956</td>\n      <td>-17.08960</td>\n      <td>0.0</td>\n      <td>0.313147</td>\n      <td>0.0</td>\n      <td>0</td>\n    </tr>\n    <tr>\n      <th>4</th>\n      <td>136.6524</td>\n      <td>4.197042</td>\n      <td>162.9949</td>\n      <td>15.69018</td>\n      <td>69.52037</td>\n      <td>12.69234</td>\n      <td>67.462470</td>\n      <td>-0.172697</td>\n      <td>0.079392</td>\n      <td>-0.758363</td>\n      <td>61.55299</td>\n      <td>174.0561</td>\n      <td>63.92721</td>\n      <td>259.6933</td>\n      <td>142.51660</td>\n      <td>243.74310</td>\n      <td>0.0</td>\n      <td>0.378955</td>\n      <td>0.0</td>\n      <td>0</td>\n    </tr>\n  </tbody>\n</table>\n</div>"
     },
     "metadata": {},
     "execution_count": 12
    }
   ],
   "source": [
    "training.dataRaw[4].head(5)"
   ]
  },
  {
   "cell_type": "markdown",
   "metadata": {},
   "source": [
    "Lets generate our np_array so first of all lets create a new class,\n",
    "\n",
    "class would do the following it would get a settings : colloums it should drop, \n",
    "\n",
    "(jumps in time, and number of frames per row, andoverall jumps on the dataset),"
   ]
  },
  {
   "cell_type": "code",
   "execution_count": 45,
   "metadata": {},
   "outputs": [
    {
     "output_type": "execute_result",
     "data": {
      "text/plain": "0"
     },
     "metadata": {},
     "execution_count": 45
    },
    {
     "output_type": "execute_result",
     "data": {
      "text/plain": "          Time   Position X   Position Y   Position Z   Velocity X  \\\n0     136.6184     1.854658     163.3199     12.51509     67.33890   \n1     504.3504   -20.808590     226.0860     17.08860     49.71883   \n2     136.6354     2.990307     163.0106     14.22045     63.82683   \n3     504.3669   -20.061710     220.5413     17.05443     36.02574   \n4     136.6524     4.197042     162.9949     15.69018     69.52037   \n...        ...          ...          ...          ...          ...   \n6995  561.4893   -73.616340     242.2852     69.19761   -188.33350   \n6996  194.5654     3.230397     169.1729     -4.81981    224.79620   \n6997  561.5054   -75.451450     242.0424     69.58482   -215.89570   \n6998  194.5826     6.434268     161.4118    -12.09352    194.23230   \n6999  561.5223   -77.681540     241.2202     70.17981   -104.96800   \n\n       Velocity Y   Velocity Z     Pitch      Roll       Yaw   Wrist Pos X  \\\n0        -6.28195   101.442200 -0.155174  0.078463 -0.764891      59.46534   \n1      -341.25160   -14.951780  1.199416  0.119953  1.519325     -92.19111   \n2       -27.71448    91.912690 -0.166827  0.079468 -0.760001      60.39677   \n3      -309.41180     0.574942  1.089347  0.092826  1.515014     -91.69262   \n4        12.69234    67.462470 -0.172697  0.079392 -0.758363      61.55299   \n...           ...          ...       ...       ...       ...           ...   \n6995    -50.49825    29.529870  1.857212  0.791704  1.893267    -119.80380   \n6996   -538.24620  -463.401900  0.351476  0.213730 -0.117169      22.59152   \n6997    -28.57200    45.553780  1.852507  0.801023  1.897196    -120.83340   \n6998   -373.04310  -408.729000  0.309624  0.220371 -0.108358      25.10394   \n6999    -32.57440    36.292190  1.832817  0.815892  1.893198    -121.49240   \n\n       Wrist Pos Y   Wrist Pos Z   Elbow pos X   Elbow Pos Y   Elbow Pos Z  \\\n0         173.0233      60.61472      254.6348     127.27250     240.62390   \n1         218.0329      12.57041     -309.3688      85.11283     -24.33749   \n2         173.5084      62.45371      257.0284     134.33960     242.42510   \n3         214.4963      13.19102     -314.4200      89.30956     -17.08960   \n4         174.0561      63.92721      259.6933     142.51660     243.74310   \n...            ...           ...           ...           ...           ...   \n6995      195.0393      45.57323     -299.4263      41.95221     -32.44111   \n6996      148.0959      66.18939      158.3324      41.64271     276.20630   \n6997      194.0461      45.91526     -299.5178      40.43322     -33.21206   \n6998      143.9342      60.14394      156.3949      60.15020     282.87230   \n6999      191.6418      46.86401     -302.7603      42.34424     -34.61201   \n\n       Grab Strenth   Grab Angle   Pinch Strength  \n0          0.000000     0.401652         0.000000  \n1          0.000000     0.603028         0.000000  \n2          0.000000     0.405177         0.000000  \n3          0.000000     0.313147         0.000000  \n4          0.000000     0.378955         0.000000  \n...             ...          ...              ...  \n6995       0.163370     1.244664         0.201331  \n6996       0.000000     0.514317         0.000000  \n6997       0.236677     1.400911         0.336688  \n6998       0.000000     0.383218         0.000000  \n6999       0.351044     1.702121         0.551523  \n\n[7000 rows x 19 columns]",
      "text/html": "<div>\n<style scoped>\n    .dataframe tbody tr th:only-of-type {\n        vertical-align: middle;\n    }\n\n    .dataframe tbody tr th {\n        vertical-align: top;\n    }\n\n    .dataframe thead th {\n        text-align: right;\n    }\n</style>\n<table border=\"1\" class=\"dataframe\">\n  <thead>\n    <tr style=\"text-align: right;\">\n      <th></th>\n      <th>Time</th>\n      <th>Position X</th>\n      <th>Position Y</th>\n      <th>Position Z</th>\n      <th>Velocity X</th>\n      <th>Velocity Y</th>\n      <th>Velocity Z</th>\n      <th>Pitch</th>\n      <th>Roll</th>\n      <th>Yaw</th>\n      <th>Wrist Pos X</th>\n      <th>Wrist Pos Y</th>\n      <th>Wrist Pos Z</th>\n      <th>Elbow pos X</th>\n      <th>Elbow Pos Y</th>\n      <th>Elbow Pos Z</th>\n      <th>Grab Strenth</th>\n      <th>Grab Angle</th>\n      <th>Pinch Strength</th>\n    </tr>\n  </thead>\n  <tbody>\n    <tr>\n      <th>0</th>\n      <td>136.6184</td>\n      <td>1.854658</td>\n      <td>163.3199</td>\n      <td>12.51509</td>\n      <td>67.33890</td>\n      <td>-6.28195</td>\n      <td>101.442200</td>\n      <td>-0.155174</td>\n      <td>0.078463</td>\n      <td>-0.764891</td>\n      <td>59.46534</td>\n      <td>173.0233</td>\n      <td>60.61472</td>\n      <td>254.6348</td>\n      <td>127.27250</td>\n      <td>240.62390</td>\n      <td>0.000000</td>\n      <td>0.401652</td>\n      <td>0.000000</td>\n    </tr>\n    <tr>\n      <th>1</th>\n      <td>504.3504</td>\n      <td>-20.808590</td>\n      <td>226.0860</td>\n      <td>17.08860</td>\n      <td>49.71883</td>\n      <td>-341.25160</td>\n      <td>-14.951780</td>\n      <td>1.199416</td>\n      <td>0.119953</td>\n      <td>1.519325</td>\n      <td>-92.19111</td>\n      <td>218.0329</td>\n      <td>12.57041</td>\n      <td>-309.3688</td>\n      <td>85.11283</td>\n      <td>-24.33749</td>\n      <td>0.000000</td>\n      <td>0.603028</td>\n      <td>0.000000</td>\n    </tr>\n    <tr>\n      <th>2</th>\n      <td>136.6354</td>\n      <td>2.990307</td>\n      <td>163.0106</td>\n      <td>14.22045</td>\n      <td>63.82683</td>\n      <td>-27.71448</td>\n      <td>91.912690</td>\n      <td>-0.166827</td>\n      <td>0.079468</td>\n      <td>-0.760001</td>\n      <td>60.39677</td>\n      <td>173.5084</td>\n      <td>62.45371</td>\n      <td>257.0284</td>\n      <td>134.33960</td>\n      <td>242.42510</td>\n      <td>0.000000</td>\n      <td>0.405177</td>\n      <td>0.000000</td>\n    </tr>\n    <tr>\n      <th>3</th>\n      <td>504.3669</td>\n      <td>-20.061710</td>\n      <td>220.5413</td>\n      <td>17.05443</td>\n      <td>36.02574</td>\n      <td>-309.41180</td>\n      <td>0.574942</td>\n      <td>1.089347</td>\n      <td>0.092826</td>\n      <td>1.515014</td>\n      <td>-91.69262</td>\n      <td>214.4963</td>\n      <td>13.19102</td>\n      <td>-314.4200</td>\n      <td>89.30956</td>\n      <td>-17.08960</td>\n      <td>0.000000</td>\n      <td>0.313147</td>\n      <td>0.000000</td>\n    </tr>\n    <tr>\n      <th>4</th>\n      <td>136.6524</td>\n      <td>4.197042</td>\n      <td>162.9949</td>\n      <td>15.69018</td>\n      <td>69.52037</td>\n      <td>12.69234</td>\n      <td>67.462470</td>\n      <td>-0.172697</td>\n      <td>0.079392</td>\n      <td>-0.758363</td>\n      <td>61.55299</td>\n      <td>174.0561</td>\n      <td>63.92721</td>\n      <td>259.6933</td>\n      <td>142.51660</td>\n      <td>243.74310</td>\n      <td>0.000000</td>\n      <td>0.378955</td>\n      <td>0.000000</td>\n    </tr>\n    <tr>\n      <th>...</th>\n      <td>...</td>\n      <td>...</td>\n      <td>...</td>\n      <td>...</td>\n      <td>...</td>\n      <td>...</td>\n      <td>...</td>\n      <td>...</td>\n      <td>...</td>\n      <td>...</td>\n      <td>...</td>\n      <td>...</td>\n      <td>...</td>\n      <td>...</td>\n      <td>...</td>\n      <td>...</td>\n      <td>...</td>\n      <td>...</td>\n      <td>...</td>\n    </tr>\n    <tr>\n      <th>6995</th>\n      <td>561.4893</td>\n      <td>-73.616340</td>\n      <td>242.2852</td>\n      <td>69.19761</td>\n      <td>-188.33350</td>\n      <td>-50.49825</td>\n      <td>29.529870</td>\n      <td>1.857212</td>\n      <td>0.791704</td>\n      <td>1.893267</td>\n      <td>-119.80380</td>\n      <td>195.0393</td>\n      <td>45.57323</td>\n      <td>-299.4263</td>\n      <td>41.95221</td>\n      <td>-32.44111</td>\n      <td>0.163370</td>\n      <td>1.244664</td>\n      <td>0.201331</td>\n    </tr>\n    <tr>\n      <th>6996</th>\n      <td>194.5654</td>\n      <td>3.230397</td>\n      <td>169.1729</td>\n      <td>-4.81981</td>\n      <td>224.79620</td>\n      <td>-538.24620</td>\n      <td>-463.401900</td>\n      <td>0.351476</td>\n      <td>0.213730</td>\n      <td>-0.117169</td>\n      <td>22.59152</td>\n      <td>148.0959</td>\n      <td>66.18939</td>\n      <td>158.3324</td>\n      <td>41.64271</td>\n      <td>276.20630</td>\n      <td>0.000000</td>\n      <td>0.514317</td>\n      <td>0.000000</td>\n    </tr>\n    <tr>\n      <th>6997</th>\n      <td>561.5054</td>\n      <td>-75.451450</td>\n      <td>242.0424</td>\n      <td>69.58482</td>\n      <td>-215.89570</td>\n      <td>-28.57200</td>\n      <td>45.553780</td>\n      <td>1.852507</td>\n      <td>0.801023</td>\n      <td>1.897196</td>\n      <td>-120.83340</td>\n      <td>194.0461</td>\n      <td>45.91526</td>\n      <td>-299.5178</td>\n      <td>40.43322</td>\n      <td>-33.21206</td>\n      <td>0.236677</td>\n      <td>1.400911</td>\n      <td>0.336688</td>\n    </tr>\n    <tr>\n      <th>6998</th>\n      <td>194.5826</td>\n      <td>6.434268</td>\n      <td>161.4118</td>\n      <td>-12.09352</td>\n      <td>194.23230</td>\n      <td>-373.04310</td>\n      <td>-408.729000</td>\n      <td>0.309624</td>\n      <td>0.220371</td>\n      <td>-0.108358</td>\n      <td>25.10394</td>\n      <td>143.9342</td>\n      <td>60.14394</td>\n      <td>156.3949</td>\n      <td>60.15020</td>\n      <td>282.87230</td>\n      <td>0.000000</td>\n      <td>0.383218</td>\n      <td>0.000000</td>\n    </tr>\n    <tr>\n      <th>6999</th>\n      <td>561.5223</td>\n      <td>-77.681540</td>\n      <td>241.2202</td>\n      <td>70.17981</td>\n      <td>-104.96800</td>\n      <td>-32.57440</td>\n      <td>36.292190</td>\n      <td>1.832817</td>\n      <td>0.815892</td>\n      <td>1.893198</td>\n      <td>-121.49240</td>\n      <td>191.6418</td>\n      <td>46.86401</td>\n      <td>-302.7603</td>\n      <td>42.34424</td>\n      <td>-34.61201</td>\n      <td>0.351044</td>\n      <td>1.702121</td>\n      <td>0.551523</td>\n    </tr>\n  </tbody>\n</table>\n<p>7000 rows × 19 columns</p>\n</div>"
     },
     "metadata": {},
     "execution_count": 45
    }
   ],
   "source": [
    "# k = training.dataRaw[4].iloc[1:2*2+1:2,:].to_numpy()\n",
    "# w = training.dataRaw[4].iloc[:2*2:2,:].to_numpy()\n",
    "# k\n",
    "# w\n",
    "\n",
    "# np.concatenate((k, w), axis=0)\n",
    "\n",
    "training.dataRaw[4]['state'][0]\n",
    "\n",
    "training.dataRaw[4].drop('state', axis=1)\n",
    "\n",
    "training.dataRaw[]"
   ]
  },
  {
   "cell_type": "code",
   "execution_count": 165,
   "metadata": {},
   "outputs": [],
   "source": [
    "class DataToNP:\n",
    "    def __init__(self, label_index, jumps, combine = 4, skips = 1, drop_indecies = []):\n",
    "        self.drop_indecies = drop_indecies\n",
    "        self.label_index = label_index\n",
    "        self.jumps = jumps\n",
    "        self.combine = combine\n",
    "        if(skips < 0):\n",
    "            skips = skips % self.jumps\n",
    "        self.skips = skips\n",
    "\n",
    "    def transform(self, data, skips = -1):\n",
    "        if(skips < 0):\n",
    "            skips = self.skips\n",
    "        type = data[self.label_index].iloc[:1]\n",
    "        if(len(self.drop_indecies) > 0):\n",
    "            current = data.drop(data.columns[self.drop_indecies], axis=1)\n",
    "            current = current.drop(self.label_index, axis=1)\n",
    "        else:\n",
    "            current = data.drop(self.label_index, axis=1)\n",
    "\n",
    "        current = pd.concat([current.iloc[::2,:].reset_index(drop=True), current.iloc[1::2,:].reset_index(drop=True)], axis=1)\n",
    "        li = []\n",
    "        if(skips < 1):\n",
    "            skips = 1\n",
    "        for i in range(0, self.jumps, skips):\n",
    "            df = current.iloc[i::self.jumps,:]\n",
    "            comb = []\n",
    "            for j in range(self.combine):\n",
    "                sample = df.iloc[j::self.combine]\n",
    "                comb.append(sample.reset_index(drop=True))\n",
    "            df = pd.concat(comb, axis=1)\n",
    "            li.append(df.dropna())\n",
    "        X = pd.concat(li, axis=0, sort=False).to_numpy()\n",
    "        y = np.full((X.shape[0], 1), type)\n",
    "        return (X, y)\n",
    "    \n",
    "    def transform_arr(self, df_arr, skips = -1):\n",
    "        Xl = []\n",
    "        yl = []\n",
    "        print(len(df_arr))\n",
    "        for df in df_arr:\n",
    "            df.head()\n",
    "            t = self.transform(df, skips)\n",
    "            Xl.append(t[0])\n",
    "            yl.append(t[1])\n",
    "            #X = np.concatenate((X, t[0]), axis=0)\n",
    "            #y = np.concatenate((y, t[1]), axis=0)\n",
    "        X = np.concatenate((Xl), axis=0)\n",
    "        y = np.concatenate((yl), axis=0)\n",
    "        return (X, y)\n",
    "        \n",
    "            "
   ]
  },
  {
   "cell_type": "markdown",
   "metadata": {},
   "source": [
    "Small test seeing that the class actually works!\n",
    "\n",
    "it does so cool,\n",
    "\n",
    "we want to combine every 2 rows ( right and left hand), then we want,\n",
    "\n",
    "to sample with jumps ( here its 2 ), and we will combine every 2 jumps.\n",
    "\n",
    "also if we got a line that has missing properties a.k.a we combined a line with a non existent one,\n",
    "\n",
    "we will drop that line"
   ]
  },
  {
   "cell_type": "code",
   "execution_count": 166,
   "metadata": {
    "tags": []
   },
   "outputs": [
    {
     "output_type": "execute_result",
     "data": {
      "text/plain": "   Name  Age  label\n0     1   20      1\n1     2   21      1\n2     3   19      1\n3     4   18      1\n4     5   20      1\n5     6   21      1\n6     7   19      1\n7     8   18      1\n8     9   17      1\n9    10   16      1",
      "text/html": "<div>\n<style scoped>\n    .dataframe tbody tr th:only-of-type {\n        vertical-align: middle;\n    }\n\n    .dataframe tbody tr th {\n        vertical-align: top;\n    }\n\n    .dataframe thead th {\n        text-align: right;\n    }\n</style>\n<table border=\"1\" class=\"dataframe\">\n  <thead>\n    <tr style=\"text-align: right;\">\n      <th></th>\n      <th>Name</th>\n      <th>Age</th>\n      <th>label</th>\n    </tr>\n  </thead>\n  <tbody>\n    <tr>\n      <th>0</th>\n      <td>1</td>\n      <td>20</td>\n      <td>1</td>\n    </tr>\n    <tr>\n      <th>1</th>\n      <td>2</td>\n      <td>21</td>\n      <td>1</td>\n    </tr>\n    <tr>\n      <th>2</th>\n      <td>3</td>\n      <td>19</td>\n      <td>1</td>\n    </tr>\n    <tr>\n      <th>3</th>\n      <td>4</td>\n      <td>18</td>\n      <td>1</td>\n    </tr>\n    <tr>\n      <th>4</th>\n      <td>5</td>\n      <td>20</td>\n      <td>1</td>\n    </tr>\n    <tr>\n      <th>5</th>\n      <td>6</td>\n      <td>21</td>\n      <td>1</td>\n    </tr>\n    <tr>\n      <th>6</th>\n      <td>7</td>\n      <td>19</td>\n      <td>1</td>\n    </tr>\n    <tr>\n      <th>7</th>\n      <td>8</td>\n      <td>18</td>\n      <td>1</td>\n    </tr>\n    <tr>\n      <th>8</th>\n      <td>9</td>\n      <td>17</td>\n      <td>1</td>\n    </tr>\n    <tr>\n      <th>9</th>\n      <td>10</td>\n      <td>16</td>\n      <td>1</td>\n    </tr>\n  </tbody>\n</table>\n</div>"
     },
     "metadata": {},
     "execution_count": 166
    },
    {
     "output_type": "execute_result",
     "data": {
      "text/plain": "(array([[ 1., 20.,  2., 21.,  5., 20.,  6., 21.],\n        [ 3., 19.,  4., 18.,  7., 19.,  8., 18.]]),\n array([[1],\n        [1]], dtype=int64))"
     },
     "metadata": {},
     "execution_count": 166
    },
    {
     "output_type": "stream",
     "name": "stdout",
     "text": "2\n"
    },
    {
     "output_type": "execute_result",
     "data": {
      "text/plain": "(array([[ 1., 20.,  2., 21.,  5., 20.,  6., 21.],\n        [ 3., 19.,  4., 18.,  7., 19.,  8., 18.],\n        [11., 20., 22., 21., 55., 20., 66., 21.],\n        [33., 19., 44., 18., 77., 19., 88., 18.]]),\n array([[1],\n        [1],\n        [2],\n        [2]], dtype=int64))"
     },
     "metadata": {},
     "execution_count": 166
    }
   ],
   "source": [
    "test_data = {'Name':[1, 2, 3, 4, 5, 6, 7, 8, 9, 10],\n",
    "        'Age':[20, 21, 19, 18, 20, 21, 19, 18, 17, 16],\n",
    "        'label':[1, 1, 1, 1, 1, 1, 1, 1, 1, 1]}\n",
    "test_data2 = {'Name':[11, 22, 33, 44, 55, 66, 77, 88, 99, 1010],\n",
    "        'Age':[20, 21, 19, 18, 20, 21, 19, 18, 17, 16],\n",
    "        'label':[2, 2, 2, 2, 2, 2, 2, 2, 2, 2]}\n",
    " \n",
    "test_df = pd.DataFrame(test_data)\n",
    "test_df2 = pd.DataFrame(test_data2)\n",
    "li = [test_df, test_df2]\n",
    "\n",
    "# Create DataFrame\n",
    "\n",
    "test_df\n",
    "combinerTest = DataToNP('label', 2, combine=2)\n",
    "combinerTest.transform(test_df)\n",
    "combinerTest.transform_arr(li)"
   ]
  },
  {
   "cell_type": "code",
   "execution_count": 167,
   "metadata": {},
   "outputs": [
    {
     "output_type": "execute_result",
     "data": {
      "text/plain": "(230, 190)"
     },
     "metadata": {},
     "execution_count": 167
    },
    {
     "output_type": "execute_result",
     "data": {
      "text/plain": "190"
     },
     "metadata": {},
     "execution_count": 167
    },
    {
     "output_type": "execute_result",
     "data": {
      "text/plain": "230"
     },
     "metadata": {},
     "execution_count": 167
    }
   ],
   "source": [
    "jumps = 15\n",
    "combine = 5\n",
    "skip = 3\n",
    "label = 'state'\n",
    "\n",
    "MyCombiner = DataToNP(label_index = label, skips=skip, jumps=jumps, combine=combine)\n",
    "\n",
    "# test if we get the same dementions its working\n",
    "\n",
    "MyCombiner.transform(training.dataRaw[4])[0].shape\n",
    "(training.dataRaw[4].shape[1] - 1) * combine * 2\n",
    "rows_afterJoining = (training.dataRaw[4].shape[0]/2) \n",
    "import math\n",
    "int(int(int(rows_afterJoining/jumps )/combine) * math.ceil(jumps / skip))"
   ]
  },
  {
   "cell_type": "markdown",
   "metadata": {},
   "source": [
    "Loots good so the combiner works as expected!\n",
    "\n",
    "there should be no problems with multiple dataFrames as it just doing the same function and combining the end result"
   ]
  },
  {
   "cell_type": "code",
   "execution_count": 184,
   "metadata": {
    "tags": []
   },
   "outputs": [
    {
     "output_type": "stream",
     "name": "stdout",
     "text": "27\n"
    },
    {
     "output_type": "execute_result",
     "data": {
      "text/plain": "array([[1, 1, 1, 1, 1, 1, 2, 2, 2, 2, 2, 0, 0, 0, 0, 0, 1, 1, 1, 1, 1, 0,\n        0, 0, 0, 0, 2, 2, 2, 2, 2, 1, 1, 1, 1, 1, 0, 0, 0, 0, 0, 2, 2, 2,\n        2, 2, 0, 0, 0, 0, 0, 1, 1, 1, 1, 1, 2, 2, 2, 2, 2, 0, 0, 0, 0, 0,\n        1, 1, 1, 1, 1, 2, 2, 2, 2, 2, 1, 1, 1, 1, 1, 2, 2, 2, 2, 2, 2, 0,\n        0, 0, 0, 1, 1, 1, 1, 1, 0, 0, 0, 0, 0, 2, 2, 2, 2, 2, 1, 1, 1, 1,\n        1, 2, 2, 2, 2, 2, 2, 0, 0, 0, 0, 1, 1, 0, 0, 0, 2, 2]],\n      dtype=int64)"
     },
     "metadata": {},
     "execution_count": 184
    }
   ],
   "source": [
    "X_train_full, y_train_full = MyCombiner.transform_arr(training.dataRaw)"
   ]
  }
 ]
}